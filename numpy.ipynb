{
 "cells": [
  {
   "cell_type": "markdown",
   "id": "03dc9d96-5f01-41f8-9d9f-74fc5ac55be8",
   "metadata": {},
   "source": [
    "<h1>NUMPY</h1>\n",
    "Array processing package.Has bindings of c++ libraries"
   ]
  },
  {
   "cell_type": "markdown",
   "id": "640564f1-ac4f-4ab2-8fd5-75ee9bae367b",
   "metadata": {},
   "source": [
    "<h2>Array</h2>\n",
    "An array is like a lsit. The only diferrence is that an array has only one data type inside it"
   ]
  },
  {
   "cell_type": "code",
   "execution_count": 1,
   "id": "491cf1b1-e93c-400b-bcfa-9f34bbee9d8c",
   "metadata": {},
   "outputs": [],
   "source": [
    "import numpy as np"
   ]
  },
  {
   "cell_type": "code",
   "execution_count": 3,
   "id": "0f17e3c3-a30c-454e-9089-f5070d54b241",
   "metadata": {},
   "outputs": [
    {
     "data": {
      "text/plain": [
       "list"
      ]
     },
     "execution_count": 3,
     "metadata": {},
     "output_type": "execute_result"
    }
   ],
   "source": [
    "#create a list\n",
    "my_lst=[1,2,3,4,5]\n",
    "type(my_lst)"
   ]
  },
  {
   "cell_type": "code",
   "execution_count": 4,
   "id": "24fdd7f0-7886-43be-9d3a-2ac3c647cd4b",
   "metadata": {},
   "outputs": [
    {
     "data": {
      "text/plain": [
       "numpy.ndarray"
      ]
     },
     "execution_count": 4,
     "metadata": {},
     "output_type": "execute_result"
    }
   ],
   "source": [
    "#convert it to an array\n",
    "arr=np.array(my_lst)\n",
    "type(arr)"
   ]
  },
  {
   "cell_type": "code",
   "execution_count": 6,
   "id": "9055c43b-6382-4212-bd40-e2dead108dfa",
   "metadata": {},
   "outputs": [
    {
     "data": {
      "text/plain": [
       "(5,)"
      ]
     },
     "execution_count": 6,
     "metadata": {},
     "output_type": "execute_result"
    }
   ],
   "source": [
    "# the .shape() functions returns the dimensions\n",
    "arr.shape"
   ]
  },
  {
   "cell_type": "markdown",
   "id": "0b8efd31-2b1d-4815-833c-30eee6532f63",
   "metadata": {},
   "source": [
    "<h3>2-D arrays</h3>"
   ]
  },
  {
   "cell_type": "code",
   "execution_count": 11,
   "id": "a71ca297-63d8-4b5f-87b8-43cc9fd69427",
   "metadata": {},
   "outputs": [
    {
     "data": {
      "text/plain": [
       "array([[1, 2, 3, 4, 5],\n",
       "       [2, 3, 4, 5, 6],\n",
       "       [9, 8, 7, 8, 9]])"
      ]
     },
     "execution_count": 11,
     "metadata": {},
     "output_type": "execute_result"
    }
   ],
   "source": [
    "#create some lists\n",
    "lst1=[1,2,3,4,5]\n",
    "lst2=[2,3,4,5,6]\n",
    "lst3=[9,8,7,8,9]\n",
    "\n",
    "#create the 2-d array\n",
    "arr=np.array([lst1,lst2,lst3])\n",
    "arr"
   ]
  },
  {
   "cell_type": "code",
   "execution_count": 12,
   "id": "72e862ce-7646-4582-9084-ca27f07f5904",
   "metadata": {},
   "outputs": [
    {
     "data": {
      "text/plain": [
       "(3, 5)"
      ]
     },
     "execution_count": 12,
     "metadata": {},
     "output_type": "execute_result"
    }
   ],
   "source": [
    "#check shape\n",
    "arr.shape"
   ]
  },
  {
   "cell_type": "markdown",
   "id": "27822835-eab7-4280-982e-2c47f453f1da",
   "metadata": {},
   "source": [
    "<h4>Reshaping</h4>"
   ]
  },
  {
   "cell_type": "code",
   "execution_count": 13,
   "id": "1fa6fe98-dae4-4fa8-b0fe-f16fb1cbe30f",
   "metadata": {},
   "outputs": [
    {
     "data": {
      "text/plain": [
       "array([[1, 2, 3],\n",
       "       [4, 5, 2],\n",
       "       [3, 4, 5],\n",
       "       [6, 9, 8],\n",
       "       [7, 8, 9]])"
      ]
     },
     "execution_count": 13,
     "metadata": {},
     "output_type": "execute_result"
    }
   ],
   "source": [
    "arr.reshape(5,3)"
   ]
  },
  {
   "cell_type": "code",
   "execution_count": 14,
   "id": "5278fdb0-7ef4-460c-8383-45cae1543b48",
   "metadata": {},
   "outputs": [
    {
     "data": {
      "text/plain": [
       "array([[1, 2, 3, 4, 5, 2, 3, 4, 5, 6, 9, 8, 7, 8, 9]])"
      ]
     },
     "execution_count": 14,
     "metadata": {},
     "output_type": "execute_result"
    }
   ],
   "source": [
    "#we can also reshape it to be a row, but it will still remain a 2-d array\n",
    "arr.reshape(1,15)"
   ]
  },
  {
   "cell_type": "markdown",
   "id": "1b24f7bd-e67b-4a14-978e-61bc93cf2ef6",
   "metadata": {},
   "source": [
    "<h3>Indexing</h3>"
   ]
  },
  {
   "cell_type": "code",
   "execution_count": 15,
   "id": "f90d1c11-49ca-41fb-bf8e-b0ddff6a637c",
   "metadata": {},
   "outputs": [
    {
     "data": {
      "text/plain": [
       "1"
      ]
     },
     "execution_count": 15,
     "metadata": {},
     "output_type": "execute_result"
    }
   ],
   "source": [
    "#accessing the elements of an array\n",
    "arr1=np.array([1,2,3,4,5,56])\n",
    "\n",
    "#retrieving an item\n",
    "arr1[0]"
   ]
  },
  {
   "cell_type": "code",
   "execution_count": 16,
   "id": "d8e1af87-02bf-4cec-8ed1-1407cd62fe9a",
   "metadata": {},
   "outputs": [
    {
     "data": {
      "text/plain": [
       "array([[1, 2, 3, 4, 5],\n",
       "       [2, 3, 4, 5, 6],\n",
       "       [9, 8, 7, 8, 9]])"
      ]
     },
     "execution_count": 16,
     "metadata": {},
     "output_type": "execute_result"
    }
   ],
   "source": [
    "#will give back all rows and columns\n",
    "arr[:,:]"
   ]
  },
  {
   "cell_type": "code",
   "execution_count": 17,
   "id": "5cda7ed1-4b9a-4916-b7f3-fbb65cd7b262",
   "metadata": {},
   "outputs": [
    {
     "data": {
      "text/plain": [
       "array([[1, 2],\n",
       "       [2, 3]])"
      ]
     },
     "execution_count": 17,
     "metadata": {},
     "output_type": "execute_result"
    }
   ],
   "source": [
    "# arr[column,row]\n",
    "# arr[from which column:to which, from which row:to each]\n",
    "arr[0:2,0:2]"
   ]
  },
  {
   "cell_type": "code",
   "execution_count": 18,
   "id": "9190acc7-e0ba-4a4c-a04a-9e04b6f1addc",
   "metadata": {},
   "outputs": [
    {
     "data": {
      "text/plain": [
       "array([3, 4, 5])"
      ]
     },
     "execution_count": 18,
     "metadata": {},
     "output_type": "execute_result"
    }
   ],
   "source": [
    "arr[1,1:4]"
   ]
  },
  {
   "cell_type": "code",
   "execution_count": 24,
   "id": "3fc9526d-bc92-4feb-a4cb-a2ac597e3e4d",
   "metadata": {},
   "outputs": [
    {
     "data": {
      "text/plain": [
       "array([0, 2, 4, 6, 8])"
      ]
     },
     "execution_count": 24,
     "metadata": {},
     "output_type": "execute_result"
    }
   ],
   "source": [
    "#np.arrage()   parameters(start,stop,step)\n",
    "arr2=np.arange(0,10,2)\n",
    "arr2"
   ]
  },
  {
   "cell_type": "code",
   "execution_count": 27,
   "id": "7bb83ff8-fef7-44bc-a45d-c27521b7d6e4",
   "metadata": {},
   "outputs": [
    {
     "data": {
      "text/plain": [
       "array([ 0.        ,  0.20408163,  0.40816327,  0.6122449 ,  0.81632653,\n",
       "        1.02040816,  1.2244898 ,  1.42857143,  1.63265306,  1.83673469,\n",
       "        2.04081633,  2.24489796,  2.44897959,  2.65306122,  2.85714286,\n",
       "        3.06122449,  3.26530612,  3.46938776,  3.67346939,  3.87755102,\n",
       "        4.08163265,  4.28571429,  4.48979592,  4.69387755,  4.89795918,\n",
       "        5.10204082,  5.30612245,  5.51020408,  5.71428571,  5.91836735,\n",
       "        6.12244898,  6.32653061,  6.53061224,  6.73469388,  6.93877551,\n",
       "        7.14285714,  7.34693878,  7.55102041,  7.75510204,  7.95918367,\n",
       "        8.16326531,  8.36734694,  8.57142857,  8.7755102 ,  8.97959184,\n",
       "        9.18367347,  9.3877551 ,  9.59183673,  9.79591837, 10.        ])"
      ]
     },
     "execution_count": 27,
     "metadata": {},
     "output_type": "execute_result"
    }
   ],
   "source": [
    "#linspace(start,stop,step)\n",
    "arr3=np.linspace(0,10,50)   #will create an array of 50 numbers between o and 10\n",
    "arr3"
   ]
  },
  {
   "cell_type": "markdown",
   "id": "c9d979bf-8d2c-4b58-99e1-5bcfc87ed15a",
   "metadata": {},
   "source": [
    "<h2>Copying</h2>"
   ]
  },
  {
   "cell_type": "code",
   "execution_count": 29,
   "id": "c86e401d-6d52-461e-979e-07525207f656",
   "metadata": {},
   "outputs": [
    {
     "data": {
      "text/plain": [
       "array([1, 2, 3, 4, 5, 6, 7, 8, 9])"
      ]
     },
     "execution_count": 29,
     "metadata": {},
     "output_type": "execute_result"
    }
   ],
   "source": [
    "#create an array\n",
    "arr1=np.array([1,2,3,4,5,6,7,8,9])\n",
    "arr1"
   ]
  },
  {
   "cell_type": "code",
   "execution_count": 31,
   "id": "1b3ae0db-14ab-404e-bea7-d01d3e1080b3",
   "metadata": {},
   "outputs": [
    {
     "data": {
      "text/plain": [
       "array([  1,   2,   3, 100, 100, 100, 100, 100, 100])"
      ]
     },
     "execution_count": 31,
     "metadata": {},
     "output_type": "execute_result"
    }
   ],
   "source": [
    "arr1[3:]=100 #this will turn all items from 3rd to 100\n",
    "arr1"
   ]
  },
  {
   "cell_type": "code",
   "execution_count": 33,
   "id": "2171664e-9e27-4a3f-8707-9a8adfbef101",
   "metadata": {},
   "outputs": [
    {
     "data": {
      "text/plain": [
       "array([  1,   2,   3, 500, 500, 500, 500, 500, 500])"
      ]
     },
     "execution_count": 33,
     "metadata": {},
     "output_type": "execute_result"
    }
   ],
   "source": [
    "arr5=np.array([1,2,3,500,500,500,500,500,500])\n",
    "arr5"
   ]
  },
  {
   "cell_type": "code",
   "execution_count": 37,
   "id": "857fb020-d689-40b0-9d79-a400ce0459bd",
   "metadata": {},
   "outputs": [
    {
     "data": {
      "text/plain": [
       "array([  1,   2,   3, 100, 100, 100, 100, 100, 100])"
      ]
     },
     "execution_count": 37,
     "metadata": {},
     "output_type": "execute_result"
    }
   ],
   "source": [
    "#the .copy() functions willl create a copy instead of referencing\n",
    "arr5=arr1.copy()\n",
    "arr5"
   ]
  },
  {
   "cell_type": "code",
   "execution_count": 41,
   "id": "d80779a9-b4f8-4044-baf0-d38e54d136f9",
   "metadata": {},
   "outputs": [
    {
     "name": "stdout",
     "output_type": "stream",
     "text": [
      "[  1   2   3 100   0   0   0   0   0]\n",
      "[  1   2   3 100 100 100 100 100 100]\n"
     ]
    }
   ],
   "source": [
    "#now if we change sth in arr1, arr 5 will not be affected\n",
    "arr1[4:]=0\n",
    "print(arr1)\n",
    "print(arr5)"
   ]
  },
  {
   "cell_type": "markdown",
   "id": "8cbff65a-403f-450f-9162-311a91ea2722",
   "metadata": {},
   "source": [
    "<h3>Some interesting conditions</h3>"
   ]
  },
  {
   "cell_type": "code",
   "execution_count": 44,
   "id": "bdd6fe6d-4f7f-4992-a9c8-dd6703a9d8e4",
   "metadata": {},
   "outputs": [
    {
     "name": "stdout",
     "output_type": "stream",
     "text": [
      "[  1   2   3 100 100 100 100 100 100]\n"
     ]
    },
    {
     "data": {
      "text/plain": [
       "array([ True,  True,  True, False, False, False, False, False, False])"
      ]
     },
     "execution_count": 44,
     "metadata": {},
     "output_type": "execute_result"
    }
   ],
   "source": [
    "#let's define a value\n",
    "val=5\n",
    "print(arr5)\n",
    "arr5<val"
   ]
  },
  {
   "cell_type": "code",
   "execution_count": 43,
   "id": "1c936dd9-a203-4831-be8f-9163cda52541",
   "metadata": {},
   "outputs": [
    {
     "data": {
      "text/plain": [
       "array([  5,  10,  15, 500, 500, 500, 500, 500, 500])"
      ]
     },
     "execution_count": 43,
     "metadata": {},
     "output_type": "execute_result"
    }
   ],
   "source": [
    "arr5*val\n",
    "# and we can do all other types of opretaions sa /,% etc"
   ]
  },
  {
   "cell_type": "code",
   "execution_count": 45,
   "id": "e06dc86d-4347-4548-97b1-58742e092bcf",
   "metadata": {},
   "outputs": [
    {
     "data": {
      "text/plain": [
       "array([1, 2, 3])"
      ]
     },
     "execution_count": 45,
     "metadata": {},
     "output_type": "execute_result"
    }
   ],
   "source": [
    "#we can also use this to return certain items\n",
    "arr5[arr5<5]"
   ]
  },
  {
   "cell_type": "markdown",
   "id": "02292ade-9e4c-4b4a-8c61-b06654b502b6",
   "metadata": {},
   "source": [
    "<h3>Some functions</h3>"
   ]
  },
  {
   "cell_type": "code",
   "execution_count": 48,
   "id": "d9f82195-4b75-4873-a68d-9e22aeb375b7",
   "metadata": {},
   "outputs": [
    {
     "data": {
      "text/plain": [
       "array([1., 1., 1., 1.])"
      ]
     },
     "execution_count": 48,
     "metadata": {},
     "output_type": "execute_result"
    }
   ],
   "source": [
    "#np.ones(number, data_type)\n",
    "np.ones(4)    #we can omit the second paramenter of data type"
   ]
  },
  {
   "cell_type": "code",
   "execution_count": 47,
   "id": "8ba5f663-35a4-47a3-9716-27b6080577bf",
   "metadata": {},
   "outputs": [
    {
     "data": {
      "text/plain": [
       "array([1, 1, 1, 1])"
      ]
     },
     "execution_count": 47,
     "metadata": {},
     "output_type": "execute_result"
    }
   ],
   "source": [
    "np.ones(4,int)"
   ]
  },
  {
   "cell_type": "code",
   "execution_count": 49,
   "id": "96d5e4a7-d190-401f-897d-476589bffac9",
   "metadata": {},
   "outputs": [
    {
     "data": {
      "text/plain": [
       "array([[1, 1, 1],\n",
       "       [1, 1, 1]])"
      ]
     },
     "execution_count": 49,
     "metadata": {},
     "output_type": "execute_result"
    }
   ],
   "source": [
    "#create 2-d array\n",
    "np.ones([2,3],int)"
   ]
  },
  {
   "cell_type": "code",
   "execution_count": 51,
   "id": "bb859ba0-9cdf-4283-b5f1-760a1e8e3cb9",
   "metadata": {},
   "outputs": [
    {
     "data": {
      "text/plain": [
       "array([0.02911529, 0.3047824 , 0.73385022])"
      ]
     },
     "execution_count": 51,
     "metadata": {},
     "output_type": "execute_result"
    }
   ],
   "source": [
    "#random distribution\n",
    "np.random.rand(3)"
   ]
  },
  {
   "cell_type": "code",
   "execution_count": 53,
   "id": "d3859f8d-864a-4fe6-94be-b4d6ff704f59",
   "metadata": {},
   "outputs": [
    {
     "data": {
      "text/plain": [
       "array([[0.31839412, 0.2108725 ],\n",
       "       [0.28760347, 0.50675676],\n",
       "       [0.07619652, 0.67385282]])"
      ]
     },
     "execution_count": 53,
     "metadata": {},
     "output_type": "execute_result"
    }
   ],
   "source": [
    "np.random.rand(3,2)"
   ]
  },
  {
   "cell_type": "code",
   "execution_count": 56,
   "id": "b826e865-a990-4028-a1e8-ed1719b7034c",
   "metadata": {},
   "outputs": [
    {
     "data": {
      "text/plain": [
       "array([ 1.42249486, -0.41232223,  0.55552403,  0.29497196])"
      ]
     },
     "execution_count": 56,
     "metadata": {},
     "output_type": "execute_result"
    }
   ],
   "source": [
    "np.random.randn(4)     #standard normal distribution"
   ]
  },
  {
   "cell_type": "code",
   "execution_count": 62,
   "id": "837a0e13-7edb-45e0-a713-fb30c48c5e05",
   "metadata": {},
   "outputs": [
    {
     "data": {
      "text/plain": [
       "array([87, 55, 51, 74, 74, 58, 63, 71])"
      ]
     },
     "execution_count": 62,
     "metadata": {},
     "output_type": "execute_result"
    }
   ],
   "source": [
    "# if paramenters are (x,y,z) we get z ints with values between x and y\n",
    "np.random.randint(0,100,8)   #from 0 to 100 select 8 numbers"
   ]
  },
  {
   "cell_type": "code",
   "execution_count": 63,
   "id": "aa5832dd-4322-4a40-bb23-f190750c0948",
   "metadata": {},
   "outputs": [
    {
     "data": {
      "text/plain": [
       "array([0.56413357, 0.5908863 ])"
      ]
     },
     "execution_count": 63,
     "metadata": {},
     "output_type": "execute_result"
    }
   ],
   "source": [
    "#between 0 and 1\n",
    "np.random.random_sample(2)"
   ]
  },
  {
   "cell_type": "code",
   "execution_count": 64,
   "id": "4737fc70-215d-43e7-b354-224ee6b6f152",
   "metadata": {},
   "outputs": [
    {
     "data": {
      "text/plain": [
       "array([[0.44615817, 0.06765537, 0.45433711, 0.68113673, 0.41448852],\n",
       "       [0.96190287, 0.19625398, 0.67698914, 0.75607719, 0.6290569 ]])"
      ]
     },
     "execution_count": 64,
     "metadata": {},
     "output_type": "execute_result"
    }
   ],
   "source": [
    "#we can also get a 2-d array\n",
    "np.random.random_sample((2,5))"
   ]
  },
  {
   "cell_type": "code",
   "execution_count": null,
   "id": "8806b4fb-3821-4966-8289-dd22305ea8a9",
   "metadata": {},
   "outputs": [],
   "source": []
  }
 ],
 "metadata": {
  "kernelspec": {
   "display_name": "Python 3 (ipykernel)",
   "language": "python",
   "name": "python3"
  },
  "language_info": {
   "codemirror_mode": {
    "name": "ipython",
    "version": 3
   },
   "file_extension": ".py",
   "mimetype": "text/x-python",
   "name": "python",
   "nbconvert_exporter": "python",
   "pygments_lexer": "ipython3",
   "version": "3.11.7"
  }
 },
 "nbformat": 4,
 "nbformat_minor": 5
}
