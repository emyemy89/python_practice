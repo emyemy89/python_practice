{
 "cells": [
  {
   "cell_type": "markdown",
   "id": "ebd5a7e3-9729-40d2-a2a9-d62f65be2e4c",
   "metadata": {},
   "source": [
    "# String formating"
   ]
  },
  {
   "cell_type": "code",
   "execution_count": 1,
   "id": "a3ed2522-54da-4903-b940-8c2f6a286eab",
   "metadata": {},
   "outputs": [
    {
     "name": "stdout",
     "output_type": "stream",
     "text": [
      "hello\n"
     ]
    }
   ],
   "source": [
    "#simple way to print a str\n",
    "print('hello')"
   ]
  },
  {
   "cell_type": "code",
   "execution_count": 2,
   "id": "62407cc9-6e75-47f3-b33d-4c1f161c8061",
   "metadata": {},
   "outputs": [
    {
     "name": "stdout",
     "output_type": "stream",
     "text": [
      "hello\n"
     ]
    }
   ],
   "source": [
    "#save it into a var\n",
    "mess='hello'\n",
    "print(mess)"
   ]
  },
  {
   "cell_type": "code",
   "execution_count": 11,
   "id": "e1520e79-1187-44a1-9b81-9cfb187ec8d7",
   "metadata": {},
   "outputs": [],
   "source": [
    "# let s use formatting\n",
    "def greeting(name):\n",
    "    print('Hello mister {}'.format(name))"
   ]
  },
  {
   "cell_type": "code",
   "execution_count": 12,
   "id": "14c86a76-53d4-4407-b75e-483b945adda3",
   "metadata": {},
   "outputs": [
    {
     "name": "stdout",
     "output_type": "stream",
     "text": [
      "Hello mister emi\n"
     ]
    }
   ],
   "source": [
    "greeting('emi')"
   ]
  },
  {
   "cell_type": "code",
   "execution_count": 13,
   "id": "783149b6-4df0-4571-8901-bd42d8668528",
   "metadata": {},
   "outputs": [],
   "source": [
    "#note that we can assign values to the var and the order won't matter\n",
    "def greeting1(name,age):\n",
    "    print('Hello mister {name}, Your age is {age}'.format(age=age,name=name))"
   ]
  },
  {
   "cell_type": "code",
   "execution_count": 14,
   "id": "c130affc-8817-48ed-8c47-8b05ce301f84",
   "metadata": {},
   "outputs": [
    {
     "name": "stdout",
     "output_type": "stream",
     "text": [
      "Hello mister emanuel, Your age is 20\n"
     ]
    }
   ],
   "source": [
    "greeting1('emanuel',20)"
   ]
  },
  {
   "cell_type": "markdown",
   "id": "3e040cb7-de92-40b0-905c-3ce896d85471",
   "metadata": {},
   "source": [
    "# Iterables vs Iterators"
   ]
  },
  {
   "cell_type": "markdown",
   "id": "fb7629e5-daaa-4dbe-92e3-03b127144fed",
   "metadata": {},
   "source": [
    "For example lists are iterables"
   ]
  },
  {
   "cell_type": "code",
   "execution_count": 15,
   "id": "f41a01fa-ced1-4ec1-83b6-dcdaa5ce1d32",
   "metadata": {},
   "outputs": [
    {
     "name": "stdout",
     "output_type": "stream",
     "text": [
      "1\n",
      "2\n",
      "3\n",
      "4\n",
      "5\n",
      "6\n",
      "7\n"
     ]
    }
   ],
   "source": [
    "lst=[1,2,3,4,5,6,7]\n",
    "for i in lst:\n",
    "    print(i)"
   ]
  },
  {
   "cell_type": "code",
   "execution_count": 16,
   "id": "935dd22b-cd56-4c80-8e80-7f7c3987fcaa",
   "metadata": {},
   "outputs": [
    {
     "data": {
      "text/plain": [
       "<list_iterator at 0x1071d0820>"
      ]
     },
     "execution_count": 16,
     "metadata": {},
     "output_type": "execute_result"
    }
   ],
   "source": [
    "# iter() will convert list to an iterator\n",
    "iter(lst)"
   ]
  },
  {
   "cell_type": "markdown",
   "id": "28069b85-0f43-439d-8548-fcb6cb2ca383",
   "metadata": {},
   "source": [
    "The difference between iterators and iterables is that iterables are initialized in memory.\n",
    "\n",
    "On the other hand, iterators are made with iter() and each element is stored when a function next() is called"
   ]
  },
  {
   "cell_type": "code",
   "execution_count": 18,
   "id": "ccc3fd51-c0a9-4681-b587-e72b1430b1d4",
   "metadata": {},
   "outputs": [],
   "source": [
    "#let's store it in a var\n",
    "lst1=iter(lst)"
   ]
  },
  {
   "cell_type": "code",
   "execution_count": 20,
   "id": "bafef593-64e3-4975-bbe1-96831f4df8ed",
   "metadata": {},
   "outputs": [
    {
     "data": {
      "text/plain": [
       "1"
      ]
     },
     "execution_count": 20,
     "metadata": {},
     "output_type": "execute_result"
    }
   ],
   "source": [
    "# to get the elements we use the next() function\n",
    "next(lst1)"
   ]
  },
  {
   "cell_type": "code",
   "execution_count": 21,
   "id": "a2375f43-28cc-4176-9cc9-4e4c0ed76e6e",
   "metadata": {},
   "outputs": [
    {
     "data": {
      "text/plain": [
       "2"
      ]
     },
     "execution_count": 21,
     "metadata": {},
     "output_type": "execute_result"
    }
   ],
   "source": [
    "# with this iteration 2 will get stored in the memory\n",
    "next(lst1)"
   ]
  },
  {
   "cell_type": "code",
   "execution_count": 22,
   "id": "cf326de4-10fd-402e-b437-495295054374",
   "metadata": {},
   "outputs": [
    {
     "data": {
      "text/plain": [
       "3"
      ]
     },
     "execution_count": 22,
     "metadata": {},
     "output_type": "execute_result"
    }
   ],
   "source": [
    "# now 3 will get stored and so on\n",
    "next(lst1)"
   ]
  },
  {
   "cell_type": "markdown",
   "id": "fa6084e8-a252-4689-9a7b-1e2abe885efc",
   "metadata": {},
   "source": [
    "Iterators can be hard to understand the means of, but they are valuable cause:\n",
    "\n",
    "Imagine u have a huge list with millions of elements. If we have such an iterable all elements will get stored at once and it will consume a lot of memory, millions of slots.\n",
    "\n",
    "On the other hand if we use iterators we use the memory space one slot at a time."
   ]
  },
  {
   "cell_type": "code",
   "execution_count": null,
   "id": "73b7d83d-6427-4e03-9735-aa9d16b7058d",
   "metadata": {},
   "outputs": [],
   "source": []
  }
 ],
 "metadata": {
  "kernelspec": {
   "display_name": "Python 3 (ipykernel)",
   "language": "python",
   "name": "python3"
  },
  "language_info": {
   "codemirror_mode": {
    "name": "ipython",
    "version": 3
   },
   "file_extension": ".py",
   "mimetype": "text/x-python",
   "name": "python",
   "nbconvert_exporter": "python",
   "pygments_lexer": "ipython3",
   "version": "3.11.7"
  }
 },
 "nbformat": 4,
 "nbformat_minor": 5
}
