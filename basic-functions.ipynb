{
 "cells": [
  {
   "cell_type": "markdown",
   "id": "bc5040b1-f5af-4555-8868-9b291eebbccf",
   "metadata": {},
   "source": [
    "<h2>Print</h2>\n"
   ]
  },
  {
   "cell_type": "code",
   "execution_count": 1,
   "id": "001ad12a-29ac-4b1f-a5fe-e239b194445d",
   "metadata": {},
   "outputs": [
    {
     "name": "stdout",
     "output_type": "stream",
     "text": [
      "hello\n"
     ]
    }
   ],
   "source": [
    "print(\"hello\")"
   ]
  },
  {
   "cell_type": "code",
   "execution_count": 4,
   "id": "428eb9a1-137b-447a-b465-ac72058a40e5",
   "metadata": {},
   "outputs": [
    {
     "name": "stdout",
     "output_type": "stream",
     "text": [
      "fratele me este emi\n"
     ]
    }
   ],
   "source": [
    "frate=\"emi\"\n",
    "print(\"fratele me este {}\".format(frate))"
   ]
  },
  {
   "cell_type": "code",
   "execution_count": 6,
   "id": "883b53c0-bf4f-4211-8068-155d7efc1849",
   "metadata": {},
   "outputs": [
    {
     "name": "stdout",
     "output_type": "stream",
     "text": [
      "fratele meu este emi si sora mea este Elena, amndoi au 100 ani\n"
     ]
    }
   ],
   "source": [
    "sora= \"Elena\"\n",
    "varsta=100\n",
    "print(\"fratele meu este {} si sora mea este {}, amndoi au {} ani\".format(frate,sora,varsta))"
   ]
  },
  {
   "cell_type": "markdown",
   "id": "ba3bbbb9-7180-430c-9b46-b573395db0a7",
   "metadata": {},
   "source": [
    "<h2>some inbuilt functions</h2>"
   ]
  },
  {
   "cell_type": "code",
   "execution_count": 9,
   "id": "f72998f7-e56d-4ed8-b80b-bf3602d23fd7",
   "metadata": {},
   "outputs": [
    {
     "data": {
      "text/plain": [
       "5"
      ]
     },
     "execution_count": 9,
     "metadata": {},
     "output_type": "execute_result"
    }
   ],
   "source": [
    "len(sora)"
   ]
  },
  {
   "cell_type": "markdown",
   "id": "c63f0764-fdde-4d8e-b4a8-52855a871f70",
   "metadata": {},
   "source": [
    "<h4>THE TYPE FUNCTION</h4>"
   ]
  },
  {
   "cell_type": "code",
   "execution_count": 16,
   "id": "001824b4-905b-4947-b6ec-5ebbf4af354e",
   "metadata": {},
   "outputs": [
    {
     "data": {
      "text/plain": [
       "str"
      ]
     },
     "execution_count": 16,
     "metadata": {},
     "output_type": "execute_result"
    }
   ],
   "source": [
    "type(sora)"
   ]
  },
  {
   "cell_type": "code",
   "execution_count": 19,
   "id": "9dd1d60b-297a-47e6-8888-155967513219",
   "metadata": {},
   "outputs": [
    {
     "data": {
      "text/plain": [
       "float"
      ]
     },
     "execution_count": 19,
     "metadata": {},
     "output_type": "execute_result"
    }
   ],
   "source": [
    "type(1.0)"
   ]
  },
  {
   "cell_type": "markdown",
   "id": "6044ea91-215c-458d-afaa-aee9c5ae33c7",
   "metadata": {},
   "source": [
    "<h1>Lists\n",
    "</h1>\n",
    "\n",
    "Lists are a data structure in python, it is mutable, changable and can contain any element inside it\n"
   ]
  },
  {
   "cell_type": "code",
   "execution_count": 22,
   "id": "239b0c08-c7a6-4b3c-a6bd-2c7a5d2098d3",
   "metadata": {},
   "outputs": [
    {
     "data": {
      "text/plain": [
       "list"
      ]
     },
     "execution_count": 22,
     "metadata": {},
     "output_type": "execute_result"
    }
   ],
   "source": [
    "type([])"
   ]
  },
  {
   "cell_type": "markdown",
   "id": "311a09df-bb17-4831-a7a0-3bcae79b5d36",
   "metadata": {},
   "source": [
    "There is also an inbuild function called list that can make lists"
   ]
  },
  {
   "cell_type": "code",
   "execution_count": 27,
   "id": "ce21ed9e-f0ee-42ef-974b-d7faf222c696",
   "metadata": {},
   "outputs": [
    {
     "data": {
      "text/plain": [
       "list"
      ]
     },
     "execution_count": 27,
     "metadata": {},
     "output_type": "execute_result"
    }
   ],
   "source": [
    "lst=list()\n",
    "type(lst)"
   ]
  },
  {
   "cell_type": "code",
   "execution_count": 33,
   "id": "4adcdbda-be1c-436f-912e-2cc19e18e2c4",
   "metadata": {},
   "outputs": [
    {
     "name": "stdout",
     "output_type": "stream",
     "text": [
      "['ceva', 'mate', 'fizica', 100, 200, False, True]\n"
     ]
    },
    {
     "data": {
      "text/plain": [
       "7"
      ]
     },
     "execution_count": 33,
     "metadata": {},
     "output_type": "execute_result"
    }
   ],
   "source": [
    "lst=[\"ceva\", \"mate\", \"fizica\", 100, 200, False, 0<1]\n",
    "print(lst)\n",
    "len(lst)   # the len function will return the number of items"
   ]
  },
  {
   "cell_type": "markdown",
   "id": "b34feebf-470a-475e-a482-eb5dbe7b37f3",
   "metadata": {},
   "source": [
    "<h3>Append</h3>\n",
    "Is a fucntion that allows us to add more elements to a list"
   ]
  },
  {
   "cell_type": "code",
   "execution_count": 38,
   "id": "98d212a6-6ce6-417b-a2d1-e31709d127aa",
   "metadata": {},
   "outputs": [
    {
     "name": "stdout",
     "output_type": "stream",
     "text": [
      "['ceva', 'mate', 'fizica', 100, 200, False, True, 'computer', 'computer', 'computer', 'computer', 'computer']\n"
     ]
    }
   ],
   "source": [
    "lst.append(\"computer\")\n",
    "print(lst)          # click 5 times and it will add it five times"
   ]
  },
  {
   "cell_type": "markdown",
   "id": "ef68327f-b360-4185-85c8-3398ae73f0b7",
   "metadata": {},
   "source": [
    "We can use append with multiple inputs and it will create a nested list inside the original one"
   ]
  },
  {
   "cell_type": "code",
   "execution_count": 50,
   "id": "c1ae2b4c-766a-44d3-af3d-136f92552514",
   "metadata": {},
   "outputs": [
    {
     "name": "stdout",
     "output_type": "stream",
     "text": [
      "[1, 2, 3, 4, [5, 6]]\n"
     ]
    }
   ],
   "source": [
    "lst_test=[1,2,3,4]\n",
    "lst_test.append([5,6])\n",
    "print(lst_test)"
   ]
  },
  {
   "cell_type": "markdown",
   "id": "9f027e25-f5ea-40cd-8c98-186ab7acdffa",
   "metadata": {},
   "source": [
    "<h3>Extend</h3>\n",
    "On the other hand, the extend method adds the elements without nesting them"
   ]
  },
  {
   "cell_type": "code",
   "execution_count": 51,
   "id": "32b5bc5b-4e72-4f43-b9ee-94766ffc6eff",
   "metadata": {},
   "outputs": [
    {
     "name": "stdout",
     "output_type": "stream",
     "text": [
      "[1, 2, 3, 4, 5, 6]\n"
     ]
    }
   ],
   "source": [
    "lst_test1=[1,2,3,4]\n",
    "lst_test1.extend([5,6])\n",
    "print(lst_test1)"
   ]
  },
  {
   "cell_type": "markdown",
   "id": "1f47752d-d72f-4134-ada1-5c88724537f7",
   "metadata": {},
   "source": [
    "<h3>Insert</h3>"
   ]
  },
  {
   "cell_type": "code",
   "execution_count": 40,
   "id": "390757bc-d628-457d-82a3-beb33a06acc4",
   "metadata": {},
   "outputs": [
    {
     "name": "stdout",
     "output_type": "stream",
     "text": [
      "['first', 'first', 'ceva', 'mate', 'fizica', 100, 200, False, True, 'computer', 'computer', 'computer', 'computer', 'computer']\n"
     ]
    }
   ],
   "source": [
    "lst.insert(0,\"first\")\n",
    "print(lst)          #click 2 times"
   ]
  },
  {
   "cell_type": "markdown",
   "id": "0247737c-ec4e-479d-ab02-569c8c656454",
   "metadata": {},
   "source": [
    "<h3>Getting specific elements</h3>"
   ]
  },
  {
   "cell_type": "code",
   "execution_count": 42,
   "id": "fb8ea3ab-13e9-4c77-b4ba-78141caa18f0",
   "metadata": {},
   "outputs": [
    {
     "data": {
      "text/plain": [
       "'mate'"
      ]
     },
     "execution_count": 42,
     "metadata": {},
     "output_type": "execute_result"
    }
   ],
   "source": [
    "lst[3]"
   ]
  },
  {
   "cell_type": "code",
   "execution_count": 45,
   "id": "a37413fb-6465-4a9b-8bcf-137d8e4d7e7a",
   "metadata": {},
   "outputs": [
    {
     "data": {
      "text/plain": [
       "['ceva', 'mate']"
      ]
     },
     "execution_count": 45,
     "metadata": {},
     "output_type": "execute_result"
    }
   ],
   "source": [
    "lst[2:4]   #from index 2 including to 4 but without it"
   ]
  },
  {
   "cell_type": "code",
   "execution_count": 46,
   "id": "3e24a80a-22bd-4095-987f-e29880fe33f3",
   "metadata": {},
   "outputs": [
    {
     "data": {
      "text/plain": [
       "['ceva',\n",
       " 'mate',\n",
       " 'fizica',\n",
       " 100,\n",
       " 200,\n",
       " False,\n",
       " True,\n",
       " 'computer',\n",
       " 'computer',\n",
       " 'computer',\n",
       " 'computer',\n",
       " 'computer']"
      ]
     },
     "execution_count": 46,
     "metadata": {},
     "output_type": "execute_result"
    }
   ],
   "source": [
    "lst[2:]"
   ]
  },
  {
   "cell_type": "code",
   "execution_count": 47,
   "id": "9e080541-2f29-4536-bcf8-dcf314e971f2",
   "metadata": {},
   "outputs": [
    {
     "data": {
      "text/plain": [
       "['first', 'first', 'ceva', 'mate', 'fizica', 100]"
      ]
     },
     "execution_count": 47,
     "metadata": {},
     "output_type": "execute_result"
    }
   ],
   "source": [
    "lst[:6]"
   ]
  },
  {
   "cell_type": "code",
   "execution_count": 43,
   "id": "17c6407e-292a-4231-9bbf-c7a0693fc7c4",
   "metadata": {},
   "outputs": [
    {
     "data": {
      "text/plain": [
       "['first',\n",
       " 'first',\n",
       " 'ceva',\n",
       " 'mate',\n",
       " 'fizica',\n",
       " 100,\n",
       " 200,\n",
       " False,\n",
       " True,\n",
       " 'computer',\n",
       " 'computer',\n",
       " 'computer',\n",
       " 'computer',\n",
       " 'computer']"
      ]
     },
     "execution_count": 43,
     "metadata": {},
     "output_type": "execute_result"
    }
   ],
   "source": [
    "lst[:]"
   ]
  },
  {
   "cell_type": "markdown",
   "id": "7c920a1c-8b6e-46fe-ae36-777d56033463",
   "metadata": {},
   "source": [
    "<h3>Pop</h3>\n",
    "this will delete an item. if no item is specified than it will remove the last item"
   ]
  },
  {
   "cell_type": "code",
   "execution_count": 52,
   "id": "c9e856aa-703b-447d-9cdb-d755b4a79ba9",
   "metadata": {},
   "outputs": [
    {
     "name": "stdout",
     "output_type": "stream",
     "text": [
      "[1, 2, 3, 4]\n"
     ]
    }
   ],
   "source": [
    "lst.pop()\n",
    "print(lst)"
   ]
  },
  {
   "cell_type": "code",
   "execution_count": 53,
   "id": "72aac8f4-c5df-45be-a38f-21959de64136",
   "metadata": {},
   "outputs": [
    {
     "data": {
      "text/plain": [
       "1"
      ]
     },
     "execution_count": 53,
     "metadata": {},
     "output_type": "execute_result"
    }
   ],
   "source": [
    "lst.pop(0)"
   ]
  },
  {
   "cell_type": "code",
   "execution_count": 54,
   "id": "fa277865-ad4d-496f-bac2-c3416e78f937",
   "metadata": {},
   "outputs": [
    {
     "name": "stdout",
     "output_type": "stream",
     "text": [
      "[2, 3, 4]\n"
     ]
    }
   ],
   "source": [
    "print(lst)"
   ]
  },
  {
   "cell_type": "markdown",
   "id": "8f958489-3ee0-456e-966c-b1470edbfcaa",
   "metadata": {},
   "source": [
    "<h2>Count() method</h2>\n",
    "It will count the occurences of a certain item inside the list"
   ]
  },
  {
   "cell_type": "code",
   "execution_count": 56,
   "id": "7a94a0f4-74d1-40e4-a39e-59c91ea03170",
   "metadata": {},
   "outputs": [
    {
     "data": {
      "text/plain": [
       "3"
      ]
     },
     "execution_count": 56,
     "metadata": {},
     "output_type": "execute_result"
    }
   ],
   "source": [
    "LST=[1,2,2,2,3,4,5]\n",
    "LST.count(2)"
   ]
  },
  {
   "cell_type": "markdown",
   "id": "525596cb-eba6-40a9-b6a3-0c66f23120e8",
   "metadata": {},
   "source": [
    "<h3>Index</h3>\n",
    "Play with indexes"
   ]
  },
  {
   "cell_type": "code",
   "execution_count": 61,
   "id": "8d5627ca-977b-4e65-b484-598c3c0730f7",
   "metadata": {},
   "outputs": [
    {
     "data": {
      "text/plain": [
       "0"
      ]
     },
     "execution_count": 61,
     "metadata": {},
     "output_type": "execute_result"
    }
   ],
   "source": [
    "lst_2=[34,35,36,37,38,39]\n",
    "lst_2.index(34)     #will return the index of the number 34\n",
    "lst_2.index(34,0,4) #index(number, start, stop), the first parameter is the number to find\n",
    "                    #the second is the index to start the search from and the third is to stop"
   ]
  },
  {
   "cell_type": "markdown",
   "id": "5da38bf2-e43f-4e46-872a-342644f81602",
   "metadata": {},
   "source": [
    "<h2>Min and max</h2>"
   ]
  },
  {
   "cell_type": "code",
   "execution_count": 63,
   "id": "e523a330-8985-4e4e-84f8-4de7978928a4",
   "metadata": {},
   "outputs": [
    {
     "data": {
      "text/plain": [
       "34"
      ]
     },
     "execution_count": 63,
     "metadata": {},
     "output_type": "execute_result"
    }
   ],
   "source": [
    "min(lst_2)\n"
   ]
  },
  {
   "cell_type": "code",
   "execution_count": 64,
   "id": "268ec8ba-281f-4e6b-8d33-174481fa30c2",
   "metadata": {},
   "outputs": [
    {
     "data": {
      "text/plain": [
       "39"
      ]
     },
     "execution_count": 64,
     "metadata": {},
     "output_type": "execute_result"
    }
   ],
   "source": [
    "max(lst_2)"
   ]
  },
  {
   "cell_type": "markdown",
   "id": "35740bf1-646a-47a2-a1e0-4f2cc6a6a2d6",
   "metadata": {},
   "source": [
    "<h5>If we use the * operator it will multiply the list, but not the values inside</h5>"
   ]
  },
  {
   "cell_type": "code",
   "execution_count": 67,
   "id": "77e5a94c-8e6f-4610-ae68-39abdaa81ac5",
   "metadata": {},
   "outputs": [
    {
     "name": "stdout",
     "output_type": "stream",
     "text": [
      "[34, 35, 36, 37, 38, 39]\n"
     ]
    },
    {
     "data": {
      "text/plain": [
       "[34, 35, 36, 37, 38, 39, 34, 35, 36, 37, 38, 39, 34, 35, 36, 37, 38, 39]"
      ]
     },
     "execution_count": 67,
     "metadata": {},
     "output_type": "execute_result"
    }
   ],
   "source": [
    "print(lst_2)\n",
    "lst_2*3\n",
    "#print(lst_2)   #ofc in the end it will not modify the list if we don't assign it"
   ]
  },
  {
   "cell_type": "markdown",
   "id": "3bc5afc1-de93-4ad5-86cd-879a7d304789",
   "metadata": {},
   "source": [
    "<h1>SETS</h1>\n",
    "<h4>Are unordered collections that are iterable,mutable and has no duplicate</h4>\n",
    "<h4>Based on hash table</h4>\n"
   ]
  },
  {
   "cell_type": "code",
   "execution_count": 68,
   "id": "d0d430e7-f5be-44ea-b0c7-71edb7ca7218",
   "metadata": {},
   "outputs": [
    {
     "name": "stdout",
     "output_type": "stream",
     "text": [
      "set()\n",
      "<class 'set'>\n"
     ]
    }
   ],
   "source": [
    "# create an empty set\n",
    "set_var=set()\n",
    "print(set_var)\n",
    "print(type(set_var))"
   ]
  },
  {
   "cell_type": "code",
   "execution_count": 69,
   "id": "8ba4529c-00f4-450d-be8f-71d56a6a0cae",
   "metadata": {},
   "outputs": [
    {
     "name": "stdout",
     "output_type": "stream",
     "text": [
      "{1, 2, 3, 4}\n"
     ]
    }
   ],
   "source": [
    "#initialized with {}\n",
    "set_var={1,2,3,4,3}   #every element can appear at most once\n",
    "print(set_var)"
   ]
  },
  {
   "cell_type": "markdown",
   "id": "7dd4c524-2670-42d8-aae0-872f12f306de",
   "metadata": {},
   "source": [
    "<h3>Inbuilt functions of sets</h3>"
   ]
  },
  {
   "cell_type": "code",
   "execution_count": 72,
   "id": "5cdb2d59-03f8-452c-883a-7bfca50c2965",
   "metadata": {},
   "outputs": [],
   "source": [
    "# indexing does not work\n",
    "#set_var[0] will give an error\n"
   ]
  },
  {
   "cell_type": "code",
   "execution_count": 73,
   "id": "0b6a9ddc-1da3-4410-9ab2-5038e1cd13da",
   "metadata": {},
   "outputs": [
    {
     "name": "stdout",
     "output_type": "stream",
     "text": [
      "{'emi', 1, 2, 3, 4}\n"
     ]
    }
   ],
   "source": [
    "#Adding\n",
    "set_var.add(\"emi\")\n",
    "print(set_var)"
   ]
  },
  {
   "cell_type": "markdown",
   "id": "41b207aa-7a75-48ca-9798-300d2026848a",
   "metadata": {},
   "source": [
    "<h4>Sets are like in math and we can do set operations like differnce, intersection and others:</h4>"
   ]
  },
  {
   "cell_type": "code",
   "execution_count": 75,
   "id": "ede58da7-f116-4210-9a45-96f66ecdc50f",
   "metadata": {},
   "outputs": [],
   "source": [
    "set1={1,2,3,4,5}\n",
    "set2={3,4,5,6,7,8}"
   ]
  },
  {
   "cell_type": "code",
   "execution_count": 76,
   "id": "652933dd-e5c5-4080-adf0-5682f578130b",
   "metadata": {},
   "outputs": [
    {
     "data": {
      "text/plain": [
       "{6, 7, 8}"
      ]
     },
     "execution_count": 76,
     "metadata": {},
     "output_type": "execute_result"
    }
   ],
   "source": [
    "#DIFFERENCE\n",
    "set2.difference(set1)"
   ]
  },
  {
   "cell_type": "code",
   "execution_count": 77,
   "id": "940edeaa-7384-40b7-a9de-3600488221bd",
   "metadata": {},
   "outputs": [
    {
     "name": "stdout",
     "output_type": "stream",
     "text": [
      "{6, 7, 8}\n"
     ]
    }
   ],
   "source": [
    "#if we want to update set2 to the difference we have the difference_update() funciton\n",
    "set2.difference_update(set1)\n",
    "print(set2)"
   ]
  },
  {
   "cell_type": "code",
   "execution_count": 83,
   "id": "b100e521-7699-434c-8f16-bcafb4b285e9",
   "metadata": {},
   "outputs": [
    {
     "data": {
      "text/plain": [
       "{3, 4, 5}"
      ]
     },
     "execution_count": 83,
     "metadata": {},
     "output_type": "execute_result"
    }
   ],
   "source": [
    "#INTERSECTION\n",
    "set2={3,4,5,6,7,8}    #get the initial definition of set 2\n",
    "set2.intersection(set1)"
   ]
  },
  {
   "cell_type": "code",
   "execution_count": 84,
   "id": "bc7d7cf2-bf97-4ea2-a37a-b900de17196e",
   "metadata": {},
   "outputs": [
    {
     "name": "stdout",
     "output_type": "stream",
     "text": [
      "{3, 4, 5}\n"
     ]
    }
   ],
   "source": [
    "set2.intersection_update(set1)\n",
    "print(set2)"
   ]
  },
  {
   "cell_type": "markdown",
   "id": "f9902feb-f304-4005-b2c0-e31c7378f7ad",
   "metadata": {},
   "source": [
    "<h1>DICTIONARIES</h1>\n",
    "<h5>Is a collection that is unordered, changable and indexed </h5>\n",
    "<h5>Written in {}, they have keys and values</h5>"
   ]
  },
  {
   "cell_type": "code",
   "execution_count": 85,
   "id": "7614e519-9511-46b9-8098-a0b75e54f9d8",
   "metadata": {},
   "outputs": [
    {
     "data": {
      "text/plain": [
       "dict"
      ]
     },
     "execution_count": 85,
     "metadata": {},
     "output_type": "execute_result"
    }
   ],
   "source": [
    "#create empty dictionary\n",
    "dic={}\n",
    "type(dic)"
   ]
  },
  {
   "cell_type": "code",
   "execution_count": 89,
   "id": "77833320-096c-41d3-87d0-65ea888ed00c",
   "metadata": {},
   "outputs": [
    {
     "data": {
      "text/plain": [
       "'mercedes'"
      ]
     },
     "execution_count": 89,
     "metadata": {},
     "output_type": "execute_result"
    }
   ],
   "source": [
    "#create a dictionary\n",
    "#we use pairs of <\"key\":\"value\">\n",
    "dic={\"car1\":\"vw\", \"car2\":\"mercedes\", \"car3\":\"audi\"}\n",
    "dic['car2']         #access a specific item through indexing\n"
   ]
  },
  {
   "cell_type": "code",
   "execution_count": 91,
   "id": "e5c6aac7-1294-447d-814a-d55d4fd8926d",
   "metadata": {},
   "outputs": [
    {
     "name": "stdout",
     "output_type": "stream",
     "text": [
      "car1\n",
      "car2\n",
      "car3\n"
     ]
    }
   ],
   "source": [
    "#we can use for loops to go through the keys\n",
    "for i in dic:\n",
    "    print(i)\n"
   ]
  },
  {
   "cell_type": "code",
   "execution_count": 94,
   "id": "2c6f80d6-1552-4078-b4d7-da1b56f3ad3d",
   "metadata": {},
   "outputs": [
    {
     "name": "stdout",
     "output_type": "stream",
     "text": [
      "vw\n",
      "mercedes\n",
      "audi\n"
     ]
    }
   ],
   "source": [
    "# we can also go through the values with .values() function\n",
    "for i in dic.values():\n",
    "    print(i)"
   ]
  },
  {
   "cell_type": "code",
   "execution_count": 95,
   "id": "b08cd48a-497a-4a29-b20a-8ba4abd18b07",
   "metadata": {},
   "outputs": [
    {
     "name": "stdout",
     "output_type": "stream",
     "text": [
      "('car1', 'vw')\n",
      "('car2', 'mercedes')\n",
      "('car3', 'audi')\n"
     ]
    }
   ],
   "source": [
    "#and we can also print the pairs of items using .items() function\n",
    "for i in dic.items():\n",
    "    print(i)"
   ]
  },
  {
   "cell_type": "code",
   "execution_count": 97,
   "id": "de969f7a-21c9-4c89-a347-ef9204bfc3bb",
   "metadata": {},
   "outputs": [
    {
     "name": "stdout",
     "output_type": "stream",
     "text": [
      "{'car1': 'vw', 'car2': 'mercedes', 'car3': 'audi', 'car4': 'volvo'}\n"
     ]
    }
   ],
   "source": [
    "#adding new items\n",
    "dic[\"car4\"]='volvo'\n",
    "print(dic)"
   ]
  },
  {
   "cell_type": "code",
   "execution_count": 98,
   "id": "7d5f8c33-2c8a-47ac-8b42-0dfc5932c764",
   "metadata": {},
   "outputs": [
    {
     "name": "stdout",
     "output_type": "stream",
     "text": [
      "{'car1': 'jaguar', 'car2': 'mercedes', 'car3': 'audi', 'car4': 'volvo'}\n"
     ]
    }
   ],
   "source": [
    "#we can also replace values of keys\n",
    "dic[\"car1\"]=\"jaguar\"\n",
    "print(dic)"
   ]
  },
  {
   "cell_type": "markdown",
   "id": "d5eabe55-8abb-47df-a157-0aec41d44c6c",
   "metadata": {},
   "source": [
    "<h3>Nested Dictionaries</h3>"
   ]
  },
  {
   "cell_type": "code",
   "execution_count": 100,
   "id": "2e1bf6e8-da09-4c73-8e84-c43b301823dc",
   "metadata": {},
   "outputs": [
    {
     "name": "stdout",
     "output_type": "stream",
     "text": [
      "{'car1': {'mercedes': 2004}, 'car2': {'audi': 2005}, 'car3': {'ferrari': 2006}}\n"
     ]
    }
   ],
   "source": [
    "car1_model={\"mercedes\":2004}\n",
    "car2_model={\"audi\":2005}\n",
    "car3_model={\"ferrari\":2006}\n",
    "\n",
    "#create a nested dictionary\n",
    "# {key:{key:value}}\n",
    "car_type={\"car1\":car1_model,\"car2\":car2_model,\"car3\":car3_model}\n",
    "print(car_type)"
   ]
  },
  {
   "cell_type": "code",
   "execution_count": 101,
   "id": "f63c27ac-d400-4a7c-a401-5a857987ec53",
   "metadata": {},
   "outputs": [
    {
     "name": "stdout",
     "output_type": "stream",
     "text": [
      "{'mercedes': 2004}\n"
     ]
    }
   ],
   "source": [
    "#INDEXING\n",
    "#using only 1 key\n",
    "print(car_type[\"car1\"])"
   ]
  },
  {
   "cell_type": "code",
   "execution_count": 102,
   "id": "56957e9e-8913-4fc6-a20a-6f387fb5e34d",
   "metadata": {},
   "outputs": [
    {
     "name": "stdout",
     "output_type": "stream",
     "text": [
      "2004\n"
     ]
    }
   ],
   "source": [
    "#using 2 keys\n",
    "print(car_type[\"car1\"][\"mercedes\"])"
   ]
  },
  {
   "cell_type": "markdown",
   "id": "0104d11d-d6e8-4465-96c3-ace84c755dc4",
   "metadata": {},
   "source": [
    "<h2>TUPLES</h2>\n",
    "Unmutable, created using (), we can not use operations on it, but we can change it whole"
   ]
  },
  {
   "cell_type": "code",
   "execution_count": 104,
   "id": "5b1c3155-40b9-47f6-9705-089aaf847ac6",
   "metadata": {},
   "outputs": [
    {
     "data": {
      "text/plain": [
       "tuple"
      ]
     },
     "execution_count": 104,
     "metadata": {},
     "output_type": "execute_result"
    }
   ],
   "source": [
    "#create emtpy tuple\n",
    "tup=tuple()\n",
    "type(tup)"
   ]
  },
  {
   "cell_type": "code",
   "execution_count": 107,
   "id": "4e62f6f2-d4f0-4ea6-88a5-bcce80534f73",
   "metadata": {},
   "outputs": [
    {
     "data": {
      "text/plain": [
       "'car'"
      ]
     },
     "execution_count": 107,
     "metadata": {},
     "output_type": "execute_result"
    }
   ],
   "source": [
    "tup=(\"car\",\"house\",\"kids\")\n",
    "#indexing\n",
    "tup[0]"
   ]
  },
  {
   "cell_type": "code",
   "execution_count": 110,
   "id": "94a08566-c7d6-45e1-a7c8-21b5d83ad276",
   "metadata": {},
   "outputs": [
    {
     "name": "stdout",
     "output_type": "stream",
     "text": [
      "('mercedes', 'vw', 'volvo')\n"
     ]
    }
   ],
   "source": [
    "#tuple does not support item assignment\n",
    "#tup[0]=\"sth\"  will give an error\n",
    "#anyway we can change the whole tuple at once\n",
    "tup=(\"mercedes\",\"vw\",\"volvo\")\n",
    "print(tup)"
   ]
  },
  {
   "cell_type": "code",
   "execution_count": 111,
   "id": "a536629f-483a-4cbc-9efb-422018704b65",
   "metadata": {},
   "outputs": [
    {
     "data": {
      "text/plain": [
       "1"
      ]
     },
     "execution_count": 111,
     "metadata": {},
     "output_type": "execute_result"
    }
   ],
   "source": [
    "#count\n",
    "tup.count(\"mercedes\")"
   ]
  },
  {
   "cell_type": "code",
   "execution_count": 112,
   "id": "ce5788df-471f-4be0-b520-1d623b5da950",
   "metadata": {},
   "outputs": [
    {
     "data": {
      "text/plain": [
       "0"
      ]
     },
     "execution_count": 112,
     "metadata": {},
     "output_type": "execute_result"
    }
   ],
   "source": [
    "#inexing\n",
    "tup.index(\"mercedes\")"
   ]
  },
  {
   "cell_type": "code",
   "execution_count": null,
   "id": "16bdb742-ad9a-4394-9529-43b611fd3778",
   "metadata": {},
   "outputs": [],
   "source": []
  }
 ],
 "metadata": {
  "kernelspec": {
   "display_name": "Python 3 (ipykernel)",
   "language": "python",
   "name": "python3"
  },
  "language_info": {
   "codemirror_mode": {
    "name": "ipython",
    "version": 3
   },
   "file_extension": ".py",
   "mimetype": "text/x-python",
   "name": "python",
   "nbconvert_exporter": "python",
   "pygments_lexer": "ipython3",
   "version": "3.11.7"
  }
 },
 "nbformat": 4,
 "nbformat_minor": 5
}
