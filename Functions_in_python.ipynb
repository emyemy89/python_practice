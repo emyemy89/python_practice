{
 "cells": [
  {
   "cell_type": "markdown",
   "id": "91649470-f417-4d64-835a-e2cd0bdb85f8",
   "metadata": {},
   "source": [
    "<h1>Functions</h1>\n",
    "Why?\n",
    "\n",
    "How to write a function?\n"
   ]
  },
  {
   "cell_type": "code",
   "execution_count": 1,
   "id": "da0fb437-b057-4ad0-b1df-ff86b8ebd96c",
   "metadata": {},
   "outputs": [
    {
     "name": "stdout",
     "output_type": "stream",
     "text": [
      "n is even\n"
     ]
    }
   ],
   "source": [
    "num=20\n",
    "\n",
    "if num%2==0:\n",
    "    print('n is even')\n",
    "else:\n",
    "    print('n is odd')\n",
    "    "
   ]
  },
  {
   "cell_type": "code",
   "execution_count": 6,
   "id": "0b5e12b0-238b-43c3-beda-34ebdde32dec",
   "metadata": {},
   "outputs": [],
   "source": [
    "#create a function\n",
    "def even_odd(num):\n",
    "    if num%2==0:\n",
    "      print('n is even')\n",
    "    else:\n",
    "      print('n is odd')"
   ]
  },
  {
   "cell_type": "code",
   "execution_count": 7,
   "id": "705519c1-76f7-413c-9c38-58b6c366f458",
   "metadata": {},
   "outputs": [
    {
     "name": "stdout",
     "output_type": "stream",
     "text": [
      "n is odd\n"
     ]
    }
   ],
   "source": [
    "#let's test the function\n",
    "even_odd(45)"
   ]
  },
  {
   "cell_type": "code",
   "execution_count": 8,
   "id": "2e830649-3f1c-490b-80cf-d9d0a2454c56",
   "metadata": {},
   "outputs": [],
   "source": [
    "#print vs return\n",
    "def hello():\n",
    "    print('hello bro')\n"
   ]
  },
  {
   "cell_type": "code",
   "execution_count": 9,
   "id": "55690972-25c4-42a1-9f4c-e565263cb76d",
   "metadata": {},
   "outputs": [
    {
     "name": "stdout",
     "output_type": "stream",
     "text": [
      "hello bro\n"
     ]
    }
   ],
   "source": [
    "hello()"
   ]
  },
  {
   "cell_type": "code",
   "execution_count": 13,
   "id": "ad2c3b21-97b2-472f-b911-e5b419d88c6d",
   "metadata": {},
   "outputs": [
    {
     "name": "stdout",
     "output_type": "stream",
     "text": [
      "hello bro\n",
      "None\n"
     ]
    }
   ],
   "source": [
    "#we can see that this function doesn't return anything\n",
    "val=hello()\n",
    "print(val)     #this won't return anything"
   ]
  },
  {
   "cell_type": "code",
   "execution_count": 14,
   "id": "8dd35a05-2d9a-4b8b-9198-a80498c61405",
   "metadata": {},
   "outputs": [],
   "source": [
    "#now let's return it\n",
    "def hello():\n",
    "    return'hello bro'\n"
   ]
  },
  {
   "cell_type": "code",
   "execution_count": 16,
   "id": "0e760768-609f-4666-be4c-8bf347dc724e",
   "metadata": {},
   "outputs": [],
   "source": [
    "val=hello()"
   ]
  },
  {
   "cell_type": "code",
   "execution_count": 18,
   "id": "4d89edd3-ef85-4f73-ab90-325f8d7fed0c",
   "metadata": {},
   "outputs": [
    {
     "name": "stdout",
     "output_type": "stream",
     "text": [
      "hello bro\n"
     ]
    }
   ],
   "source": [
    "#this will return\n",
    "print(val) "
   ]
  },
  {
   "cell_type": "code",
   "execution_count": 19,
   "id": "7d959877-ba14-4393-90c2-ecd3fa7bbe9a",
   "metadata": {},
   "outputs": [],
   "source": [
    "def add_num(num1,num2):\n",
    "    return num1+num2"
   ]
  },
  {
   "cell_type": "code",
   "execution_count": 21,
   "id": "9b9ecf03-604b-4dfb-ba6c-bc88519a491c",
   "metadata": {},
   "outputs": [],
   "source": [
    "sum=add_num(23,4)"
   ]
  },
  {
   "cell_type": "code",
   "execution_count": 22,
   "id": "10dfe839-db88-48e6-bc9e-73e006e60a3a",
   "metadata": {},
   "outputs": [
    {
     "name": "stdout",
     "output_type": "stream",
     "text": [
      "27\n"
     ]
    }
   ],
   "source": [
    "print(sum)"
   ]
  },
  {
   "cell_type": "code",
   "execution_count": 32,
   "id": "9796ea09-a7b4-4beb-ad78-ebc52fad7fac",
   "metadata": {},
   "outputs": [],
   "source": [
    "# the first argument is 'positional'\n",
    "# second one is of type keywork (key-value)\n",
    "def name_age(name,age=20):\n",
    "    print(\"My name is {} and my age is {}\".format(name,age))"
   ]
  },
  {
   "cell_type": "code",
   "execution_count": 31,
   "id": "acfc2ff7-4700-4612-abf0-09d34690d379",
   "metadata": {},
   "outputs": [
    {
     "name": "stdout",
     "output_type": "stream",
     "text": [
      "My name is Emi and my age is 20\n"
     ]
    }
   ],
   "source": [
    "name_age('Emi')"
   ]
  },
  {
   "cell_type": "code",
   "execution_count": 33,
   "id": "22ce4547-5158-4f1d-968c-f7aeee64fcc6",
   "metadata": {},
   "outputs": [],
   "source": [
    "#to understand better how arguments and keyword arguments work\n",
    "def name(*args,**kwargs):\n",
    "    print(args)\n",
    "    print(kwargs)"
   ]
  },
  {
   "cell_type": "code",
   "execution_count": 35,
   "id": "1dc0dfdc-e59a-4aef-9a0c-61ec1b4059f9",
   "metadata": {},
   "outputs": [
    {
     "name": "stdout",
     "output_type": "stream",
     "text": [
      "(20, 34, 'emi')\n",
      "{'age': 44, 'name': 'emanuel'}\n"
     ]
    }
   ],
   "source": [
    "# let's test it and see the output\n",
    "name(20,34,'emi',age=44,name='emanuel')"
   ]
  },
  {
   "cell_type": "code",
   "execution_count": 44,
   "id": "733421a1-b8ef-40db-b89d-243d797e25aa",
   "metadata": {},
   "outputs": [],
   "source": [
    "#let's see how to return 2 different values in one function\n",
    "def odd_even_sum(lst):\n",
    "    odd_sum=0\n",
    "    even_sum=0\n",
    "    for i in lst:\n",
    "        if i%2==0:\n",
    "            even_sum+=i\n",
    "        else:\n",
    "            odd_sum+=i\n",
    "    return odd_sum,even_sum\n",
    "            \n",
    "    "
   ]
  },
  {
   "cell_type": "code",
   "execution_count": 45,
   "id": "feadf1ec-daae-43e1-8953-805bf7c73dee",
   "metadata": {},
   "outputs": [],
   "source": [
    "lst=[1,2,3,4,5,6,7,8]"
   ]
  },
  {
   "cell_type": "code",
   "execution_count": 46,
   "id": "02628aed-af87-43d7-b8f9-d18488424826",
   "metadata": {},
   "outputs": [
    {
     "data": {
      "text/plain": [
       "(16, 20)"
      ]
     },
     "execution_count": 46,
     "metadata": {},
     "output_type": "execute_result"
    }
   ],
   "source": [
    "odd_even_sum(lst)"
   ]
  },
  {
   "cell_type": "markdown",
   "id": "e9c83c82-edbf-4b15-a46a-f51194be83b4",
   "metadata": {},
   "source": [
    "<h1>Map function in python</h1>"
   ]
  },
  {
   "cell_type": "code",
   "execution_count": 48,
   "id": "e85f99f9-4804-495b-bac4-2a15d8b575cb",
   "metadata": {},
   "outputs": [],
   "source": [
    "# let s start by creating a simple function\n",
    "def odd_or_even(num):\n",
    "    if num%2==0:\n",
    "        return 'the number {} is even'.format(num)\n",
    "    else:\n",
    "        return'the number {} is odd'.format(num)"
   ]
  },
  {
   "cell_type": "code",
   "execution_count": 49,
   "id": "7ea61b54-42a0-4a85-93e5-bac4bb788777",
   "metadata": {},
   "outputs": [
    {
     "data": {
      "text/plain": [
       "'the number 24 is even'"
      ]
     },
     "execution_count": 49,
     "metadata": {},
     "output_type": "execute_result"
    }
   ],
   "source": [
    "odd_or_even(24)"
   ]
  },
  {
   "cell_type": "markdown",
   "id": "ff4de900-d8e2-4896-8722-8e187e89e35f",
   "metadata": {},
   "source": [
    "So far we did this with one number at a time\n",
    "\n",
    "Let's assume that we want to apply this funciton to multile numbers at the same time"
   ]
  },
  {
   "cell_type": "code",
   "execution_count": 50,
   "id": "8cc3b8a8-5d63-4783-986d-35e015e5513a",
   "metadata": {},
   "outputs": [],
   "source": [
    "#let s say we have this list\n",
    "lst=[1,2,4,5,67,78,23,45]"
   ]
  },
  {
   "cell_type": "markdown",
   "id": "df791c36-3363-4d8f-8e1c-86c3bb941774",
   "metadata": {},
   "source": [
    "One way would be to iterate thorugh each element with a for loop, but it is time consuming\n",
    "\n",
    "Another way is to use map function"
   ]
  },
  {
   "cell_type": "code",
   "execution_count": 51,
   "id": "2a311e2a-b0c6-4b81-9f99-c8e9efbf7e59",
   "metadata": {},
   "outputs": [
    {
     "data": {
      "text/plain": [
       "<map at 0x105a31720>"
      ]
     },
     "execution_count": 51,
     "metadata": {},
     "output_type": "execute_result"
    }
   ],
   "source": [
    "# first parameter is the function\n",
    "# second parameter is the argument\n",
    "map(odd_or_even,lst)"
   ]
  },
  {
   "cell_type": "markdown",
   "id": "699fb35f-c0ec-475a-af3e-cf2633a9e7fd",
   "metadata": {},
   "source": [
    "We can see that a map object was created at a memory loaction"
   ]
  },
  {
   "cell_type": "code",
   "execution_count": 55,
   "id": "f9b8c9fc-b570-428b-813c-7726701da568",
   "metadata": {},
   "outputs": [
    {
     "data": {
      "text/plain": [
       "['the number 1 is odd',\n",
       " 'the number 2 is even',\n",
       " 'the number 4 is even',\n",
       " 'the number 5 is odd',\n",
       " 'the number 67 is odd',\n",
       " 'the number 78 is even',\n",
       " 'the number 23 is odd',\n",
       " 'the number 45 is odd']"
      ]
     },
     "execution_count": 55,
     "metadata": {},
     "output_type": "execute_result"
    }
   ],
   "source": [
    "#we can get the result by converting it to a list\n",
    "# we use the inbuilt function 'list' to create such a list\n",
    "list(map(odd_or_even,lst))"
   ]
  },
  {
   "cell_type": "markdown",
   "id": "3140a782-28e9-48aa-b25a-d705c81a8828",
   "metadata": {},
   "source": [
    "# Lambda function\n",
    "\n",
    "also called anonymous funciton"
   ]
  },
  {
   "cell_type": "code",
   "execution_count": 58,
   "id": "370244c0-0bcb-495b-97ae-0ca90528d9ea",
   "metadata": {},
   "outputs": [],
   "source": [
    "# let s say we have a simple funtion\n",
    "def addition(a,b):\n",
    "     return a+b"
   ]
  },
  {
   "cell_type": "code",
   "execution_count": 59,
   "id": "6a78b45d-8884-4894-b75d-28b36915ab9f",
   "metadata": {},
   "outputs": [
    {
     "data": {
      "text/plain": [
       "3"
      ]
     },
     "execution_count": 59,
     "metadata": {},
     "output_type": "execute_result"
    }
   ],
   "source": [
    "addition(1,2)"
   ]
  },
  {
   "cell_type": "code",
   "execution_count": 60,
   "id": "6b792c47-a5ee-459d-ae10-1247c39e5dad",
   "metadata": {},
   "outputs": [
    {
     "data": {
      "text/plain": [
       "<function __main__.<lambda>(a, b)>"
      ]
     },
     "execution_count": 60,
     "metadata": {},
     "output_type": "execute_result"
    }
   ],
   "source": [
    "#convert to lambda function\n",
    "lambda a,b:a+b"
   ]
  },
  {
   "cell_type": "code",
   "execution_count": 63,
   "id": "99766640-0645-4af4-9a2e-e82e83333976",
   "metadata": {},
   "outputs": [],
   "source": [
    "#we can store the new function in a variable\n",
    "# note that this is a  varaible and not a function\n",
    "val_addition=lambda a,b:a+b"
   ]
  },
  {
   "cell_type": "code",
   "execution_count": 64,
   "id": "2b879a9a-51eb-4036-a38f-93f0c16596b3",
   "metadata": {},
   "outputs": [
    {
     "data": {
      "text/plain": [
       "9"
      ]
     },
     "execution_count": 64,
     "metadata": {},
     "output_type": "execute_result"
    }
   ],
   "source": [
    "val_addition(4,5)"
   ]
  },
  {
   "cell_type": "code",
   "execution_count": 67,
   "id": "9d4819e4-90b4-4938-8c89-62e7bee7d66f",
   "metadata": {},
   "outputs": [
    {
     "data": {
      "text/plain": [
       "function"
      ]
     },
     "execution_count": 67,
     "metadata": {},
     "output_type": "execute_result"
    }
   ],
   "source": [
    "type(val_addition)"
   ]
  },
  {
   "cell_type": "code",
   "execution_count": 68,
   "id": "0cf42743-d3fa-473b-b51f-1d977e740425",
   "metadata": {},
   "outputs": [],
   "source": [
    "#let s create a function and convert it to amba function\n",
    "def even(num):\n",
    "    if num%2==0:\n",
    "        return True"
   ]
  },
  {
   "cell_type": "code",
   "execution_count": 69,
   "id": "4183c8b1-8430-4c7d-a4be-682dd9301b82",
   "metadata": {},
   "outputs": [],
   "source": [
    "even_var=lambda num:num%2==0"
   ]
  },
  {
   "cell_type": "code",
   "execution_count": 70,
   "id": "de5770ed-55a5-4333-ba3b-d695e8770479",
   "metadata": {},
   "outputs": [
    {
     "data": {
      "text/plain": [
       "False"
      ]
     },
     "execution_count": 70,
     "metadata": {},
     "output_type": "execute_result"
    }
   ],
   "source": [
    "even_var(3)"
   ]
  },
  {
   "cell_type": "code",
   "execution_count": 73,
   "id": "cb421474-678b-4e7c-b0f8-dc60ee39c019",
   "metadata": {},
   "outputs": [],
   "source": [
    "#another example\n",
    "varmfka=lambda s:s-4"
   ]
  },
  {
   "cell_type": "code",
   "execution_count": 74,
   "id": "14569bdc-941a-49a0-81c4-0dadb285196c",
   "metadata": {},
   "outputs": [
    {
     "data": {
      "text/plain": [
       "1"
      ]
     },
     "execution_count": 74,
     "metadata": {},
     "output_type": "execute_result"
    }
   ],
   "source": [
    "varmfka(5)"
   ]
  },
  {
   "cell_type": "markdown",
   "id": "e6bc4e64-7782-4ca4-9c38-297445a22e2d",
   "metadata": {},
   "source": [
    "# Filter function\n"
   ]
  },
  {
   "cell_type": "code",
   "execution_count": 75,
   "id": "2fb63a3a-14a2-43b8-8b4d-960f8d269c62",
   "metadata": {},
   "outputs": [],
   "source": [
    "def eeven(num):\n",
    "    if num%2==0:\n",
    "        return True"
   ]
  },
  {
   "cell_type": "code",
   "execution_count": 76,
   "id": "e5bd5a33-f9ea-4fbf-a5e5-9f4253c14054",
   "metadata": {},
   "outputs": [],
   "source": [
    "#let s say we want the function to pass through all the elements of a list\n",
    "lst=[1,2,3,4,5,6,7,8,9,0]"
   ]
  },
  {
   "cell_type": "code",
   "execution_count": 77,
   "id": "395696a1-de60-4020-8f54-4ab8d4ceae02",
   "metadata": {},
   "outputs": [
    {
     "data": {
      "text/plain": [
       "<filter at 0x105a32b00>"
      ]
     },
     "execution_count": 77,
     "metadata": {},
     "output_type": "execute_result"
    }
   ],
   "source": [
    "# similar to map we have a function 'filter'\n",
    "# first argument is th efunciton name\n",
    "# second arg is the value\n",
    "filter(eeven,lst)"
   ]
  },
  {
   "cell_type": "code",
   "execution_count": 78,
   "id": "7ff83694-459f-4b91-acc6-cf79123247a0",
   "metadata": {},
   "outputs": [
    {
     "data": {
      "text/plain": [
       "[2, 4, 6, 8, 0]"
      ]
     },
     "execution_count": 78,
     "metadata": {},
     "output_type": "execute_result"
    }
   ],
   "source": [
    "list(filter(eeven,lst))"
   ]
  },
  {
   "cell_type": "code",
   "execution_count": 81,
   "id": "034b22cb-c02f-4be3-9869-06c91db57d4e",
   "metadata": {},
   "outputs": [
    {
     "data": {
      "text/plain": [
       "[2, 4, 6, 8, 0]"
      ]
     },
     "execution_count": 81,
     "metadata": {},
     "output_type": "execute_result"
    }
   ],
   "source": [
    "# we can convert it to a lambda function\n",
    "#this way we can do evrything in just one line of code instead of all we did before\n",
    "list(filter(lambda num:num%2==0,lst ))"
   ]
  },
  {
   "cell_type": "code",
   "execution_count": 82,
   "id": "8fb2c352-b449-49ff-aeda-42d6c3873409",
   "metadata": {},
   "outputs": [
    {
     "data": {
      "text/plain": [
       "[False, True, False, True, False, True, False, True, False, True]"
      ]
     },
     "execution_count": 82,
     "metadata": {},
     "output_type": "execute_result"
    }
   ],
   "source": [
    "# on the other hand if we use map we get the return value for each element\n",
    "# this is the difference between map and filter\n",
    "list(map(lambda num:num%2==0,lst ))"
   ]
  },
  {
   "cell_type": "code",
   "execution_count": null,
   "id": "dbd6bdf0-4e56-4f58-b3a5-ab08ffd51255",
   "metadata": {},
   "outputs": [],
   "source": []
  }
 ],
 "metadata": {
  "kernelspec": {
   "display_name": "Python 3 (ipykernel)",
   "language": "python",
   "name": "python3"
  },
  "language_info": {
   "codemirror_mode": {
    "name": "ipython",
    "version": 3
   },
   "file_extension": ".py",
   "mimetype": "text/x-python",
   "name": "python",
   "nbconvert_exporter": "python",
   "pygments_lexer": "ipython3",
   "version": "3.11.7"
  }
 },
 "nbformat": 4,
 "nbformat_minor": 5
}
