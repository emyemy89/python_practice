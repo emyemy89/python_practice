{
 "cells": [
  {
   "cell_type": "code",
   "execution_count": null,
   "id": "d1ec693e-3091-4c31-a391-b3d0aaed8304",
   "metadata": {},
   "outputs": [],
   "source": []
  },
  {
   "cell_type": "markdown",
   "id": "3ef40894-fd6e-4515-a914-443c5558fe8c",
   "metadata": {},
   "source": [
    "# List comprehension\n",
    "This proveides a concise way to create lists\n",
    "\n",
    "It s mainly brackets containing an expression followed by a for clause folowed by 0 or more for or if clauses\n",
    "\n",
    "The expression can be anything so we cna put all kinds of objects in the lists"
   ]
  },
  {
   "cell_type": "code",
   "execution_count": 1,
   "id": "c32c201a-30bf-43bf-a22e-612718add462",
   "metadata": {},
   "outputs": [],
   "source": [
    "# let s create a simple function that appends some input values to a list\n",
    "lst1=[]\n",
    "\n",
    "def square_lst(lst):\n",
    "    for i in lst:\n",
    "        lst1.append(i*i)\n",
    "    return lst1"
   ]
  },
  {
   "cell_type": "code",
   "execution_count": 2,
   "id": "dc98085d-f6d7-4cf8-ba94-e4b3531feaa3",
   "metadata": {},
   "outputs": [
    {
     "data": {
      "text/plain": [
       "[1, 4, 9, 16]"
      ]
     },
     "execution_count": 2,
     "metadata": {},
     "output_type": "execute_result"
    }
   ],
   "source": [
    "# now let's test it\n",
    "square_lst([1,2,3,4])"
   ]
  },
  {
   "cell_type": "markdown",
   "id": "b480dd55-489c-412b-a897-b9c295a51103",
   "metadata": {},
   "source": [
    "Now with list comprehension we can write everything we did above in just one line of code\n",
    "\n",
    "This approach is much more memory friendly"
   ]
  },
  {
   "cell_type": "code",
   "execution_count": 4,
   "id": "b2d71165-d553-4295-9db3-4e97eb5a89aa",
   "metadata": {},
   "outputs": [
    {
     "data": {
      "text/plain": [
       "[1, 4, 9, 16]"
      ]
     },
     "execution_count": 4,
     "metadata": {},
     "output_type": "execute_result"
    }
   ],
   "source": [
    "lst=[1,2,3,4]\n",
    "[i*i for i in lst]"
   ]
  },
  {
   "cell_type": "code",
   "execution_count": 6,
   "id": "a931eea3-b14c-4d09-b264-df7d7579be5b",
   "metadata": {},
   "outputs": [
    {
     "data": {
      "text/plain": [
       "[4, 16]"
      ]
     },
     "execution_count": 6,
     "metadata": {},
     "output_type": "execute_result"
    }
   ],
   "source": [
    "# now let's assume that we only want the square of the even numbers\n",
    "# thus we add an if clause\n",
    "[i*i for i in lst if i%2==0]"
   ]
  },
  {
   "cell_type": "code",
   "execution_count": null,
   "id": "fb2867b2-068c-4c02-b244-d8dabbb163e9",
   "metadata": {},
   "outputs": [],
   "source": []
  }
 ],
 "metadata": {
  "kernelspec": {
   "display_name": "Python 3 (ipykernel)",
   "language": "python",
   "name": "python3"
  },
  "language_info": {
   "codemirror_mode": {
    "name": "ipython",
    "version": 3
   },
   "file_extension": ".py",
   "mimetype": "text/x-python",
   "name": "python",
   "nbconvert_exporter": "python",
   "pygments_lexer": "ipython3",
   "version": "3.11.7"
  }
 },
 "nbformat": 4,
 "nbformat_minor": 5
}
