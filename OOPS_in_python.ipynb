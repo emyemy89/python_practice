{
 "cells": [
  {
   "cell_type": "markdown",
   "id": "471c3c48-d91e-443e-9cf1-2d636d16293f",
   "metadata": {},
   "source": [
    "# OOPS in python\n"
   ]
  },
  {
   "cell_type": "code",
   "execution_count": 1,
   "id": "cfc90e46-8870-40fb-aeba-5582f80c5966",
   "metadata": {},
   "outputs": [],
   "source": [
    "# this is an empty class\n",
    "class Car:\n",
    "    pass"
   ]
  },
  {
   "cell_type": "code",
   "execution_count": 3,
   "id": "1daf3611-bb94-4281-8576-90b13980aa3c",
   "metadata": {},
   "outputs": [],
   "source": [
    "# create an object from the class\n",
    "car1=Car()"
   ]
  },
  {
   "cell_type": "code",
   "execution_count": 4,
   "id": "2e50c3f0-538d-4b75-a233-81808571f51d",
   "metadata": {},
   "outputs": [],
   "source": [
    "# we can define some proprieties for the object\n",
    "car1.windows=4\n",
    "car1.doors=2"
   ]
  },
  {
   "cell_type": "code",
   "execution_count": 6,
   "id": "42082cb8-d6d4-4fc1-8ead-1cca35bef1d0",
   "metadata": {},
   "outputs": [
    {
     "name": "stdout",
     "output_type": "stream",
     "text": [
      "4\n"
     ]
    }
   ],
   "source": [
    "print(car1.windows)"
   ]
  },
  {
   "cell_type": "code",
   "execution_count": 7,
   "id": "21b006ae-a8c1-4f12-8d2b-c3ec701be89a",
   "metadata": {},
   "outputs": [],
   "source": [
    "#create another instance\n",
    "car2=Car()\n",
    "car2.windows=5"
   ]
  },
  {
   "cell_type": "markdown",
   "id": "81afcb82-caac-4070-9698-e48b8e22f364",
   "metadata": {},
   "source": [
    "### But this is a bad way of creating a class cause the developer is able to make lots of attributes"
   ]
  },
  {
   "cell_type": "code",
   "execution_count": 10,
   "id": "391641e0-fd69-4024-901f-cae524c755cb",
   "metadata": {},
   "outputs": [],
   "source": [
    "# the correct way is to use a constructor like __init__()\n",
    "class Car:\n",
    "    def __init__(self, window, door, enginetype):\n",
    "        #now we create our own attributes\n",
    "        self.windows=window\n",
    "        self.doors=door\n",
    "        self.enginetype=enginetype\n"
   ]
  },
  {
   "cell_type": "code",
   "execution_count": 27,
   "id": "8ddb9e82-546a-4ce9-891a-4a49794a562e",
   "metadata": {},
   "outputs": [],
   "source": [
    "# now in order to create an object we need to pass the arguments\n",
    "car1=Car(4,5,'petrol')"
   ]
  },
  {
   "cell_type": "code",
   "execution_count": 14,
   "id": "6b47b9a8-8be2-4fb5-be57-e3a1584e0bad",
   "metadata": {},
   "outputs": [],
   "source": [
    "car2=Car(6,3,'electric')"
   ]
  },
  {
   "cell_type": "code",
   "execution_count": 16,
   "id": "65c45038-00a0-40b5-864c-f0368f7c98d6",
   "metadata": {},
   "outputs": [
    {
     "name": "stdout",
     "output_type": "stream",
     "text": [
      "6\n"
     ]
    }
   ],
   "source": [
    "print(car2.windows)"
   ]
  },
  {
   "cell_type": "code",
   "execution_count": 25,
   "id": "d00a72de-698e-47fe-9201-0ec8002e545f",
   "metadata": {},
   "outputs": [],
   "source": [
    "# we can also create another fucntion inside the class\n",
    "class Car:\n",
    "    def __init__(self, window, door, enginetype):\n",
    "        self.windows=window\n",
    "        self.doors=door\n",
    "        self.enginetype=enginetype\n",
    "    #this new method will do sth new\n",
    "    def engine_type(self):\n",
    "        return \"This car has a {} engine\".format(self.enginetype)"
   ]
  },
  {
   "cell_type": "code",
   "execution_count": 29,
   "id": "6bbf20e2-27d9-4af1-a0a5-c19652ed00f7",
   "metadata": {},
   "outputs": [
    {
     "data": {
      "text/plain": [
       "'This car has a petrol engine'"
      ]
     },
     "execution_count": 29,
     "metadata": {},
     "output_type": "execute_result"
    }
   ],
   "source": [
    "# we can test it here\n",
    "car1.engine_type()"
   ]
  },
  {
   "cell_type": "markdown",
   "id": "9f9b8be3-94b4-43c6-8bc6-6d39058c4732",
   "metadata": {},
   "source": [
    "# Exception handling"
   ]
  },
  {
   "cell_type": "code",
   "execution_count": 31,
   "id": "a1a1b4ba-85cd-4bcd-8393-799ef47d4279",
   "metadata": {},
   "outputs": [
    {
     "ename": "NameError",
     "evalue": "name 'b' is not defined",
     "output_type": "error",
     "traceback": [
      "\u001b[0;31m---------------------------------------------------------------------------\u001b[0m",
      "\u001b[0;31mNameError\u001b[0m                                 Traceback (most recent call last)",
      "Cell \u001b[0;32mIn[31], line 4\u001b[0m\n\u001b[1;32m      2\u001b[0m a\u001b[38;5;241m=\u001b[39m\u001b[38;5;241m10\u001b[39m\n\u001b[1;32m      3\u001b[0m \u001b[38;5;66;03m#this will give an error \u001b[39;00m\n\u001b[0;32m----> 4\u001b[0m a\u001b[38;5;241m=\u001b[39mb\n",
      "\u001b[0;31mNameError\u001b[0m: name 'b' is not defined"
     ]
    }
   ],
   "source": [
    "# let's start by writting some simple code\n",
    "a=10\n",
    "#this will give an error \n",
    "a=b"
   ]
  },
  {
   "cell_type": "markdown",
   "id": "65cba2f5-40f0-44b3-a118-ff204f91b151",
   "metadata": {},
   "source": [
    "This is an error that the user should not get\n",
    "\n",
    "In order to do that we have to handle this error"
   ]
  },
  {
   "cell_type": "code",
   "execution_count": 33,
   "id": "2612e5e5-bf6f-405e-bed5-f99414194c23",
   "metadata": {},
   "outputs": [
    {
     "name": "stdout",
     "output_type": "stream",
     "text": [
      "some problem may have occured\n"
     ]
    }
   ],
   "source": [
    "# first way is to use the try block (and except)\n",
    "try:\n",
    "    # code block where exception can occur\n",
    "    a=b\n",
    "except:\n",
    "    print('some problem may have occured')"
   ]
  },
  {
   "cell_type": "code",
   "execution_count": 36,
   "id": "5aaa0b48-ee66-47c4-9659-d570659dda32",
   "metadata": {},
   "outputs": [
    {
     "name": "stdout",
     "output_type": "stream",
     "text": [
      "name 'b' is not defined\n"
     ]
    }
   ],
   "source": [
    "# if we use the Exception class we can get the exact error\n",
    "try:\n",
    "    a=b\n",
    "except Exception as ex:\n",
    "    print(ex)"
   ]
  },
  {
   "cell_type": "code",
   "execution_count": 39,
   "id": "d6695c7b-25b0-4bed-b922-a1c34adc0c50",
   "metadata": {},
   "outputs": [
    {
     "name": "stdout",
     "output_type": "stream",
     "text": [
      "The var is not defined\n"
     ]
    }
   ],
   "source": [
    "# we can write specific prompts to each error\n",
    "try:\n",
    "    a=b\n",
    "# this is a child class of the Exception class\n",
    "except NameError as ex1:\n",
    "    print('The var is not defined')\n",
    "# this Exception should be written always at the bottom\n",
    "except Exception as ex:\n",
    "    print(ex)"
   ]
  },
  {
   "cell_type": "code",
   "execution_count": 40,
   "id": "66ab547b-17b7-4411-b508-80f8b9b16059",
   "metadata": {},
   "outputs": [
    {
     "name": "stdin",
     "output_type": "stream",
     "text": [
      "choose first number 12\n",
      "choose second number 4\n"
     ]
    },
    {
     "name": "stdout",
     "output_type": "stream",
     "text": [
      "48\n",
      "3.0\n"
     ]
    }
   ],
   "source": [
    "#NOW WE CAN USE ELSE BLOCK\n",
    "try:\n",
    "    #here we write the code\n",
    "    a=int(input('choose first number'))\n",
    "    b=int(input('choose second number'))\n",
    "    c=a*b\n",
    "    d=a/b\n",
    "except Exception as ex:\n",
    "    #here we catch the exception\n",
    "    print(ex)\n",
    "else:\n",
    "    #here we continue the execution if nothing was wrong\n",
    "    print(c)\n",
    "    print(d)"
   ]
  },
  {
   "cell_type": "code",
   "execution_count": 42,
   "id": "1032b6d1-52be-4156-b430-1f603b0e44fd",
   "metadata": {},
   "outputs": [
    {
     "name": "stdin",
     "output_type": "stream",
     "text": [
      "choose first number 12\n",
      "choose second number 0\n"
     ]
    },
    {
     "name": "stdout",
     "output_type": "stream",
     "text": [
      "division by zero\n",
      "execution completed\n"
     ]
    }
   ],
   "source": [
    "# WE CAN ALSO USE TRY-EXCEPTION-ELSE-FINALLY\n",
    "# even if we get an error or not, the finally block will execute\n",
    "# this way we can close the connection from the database after the execution of finally\n",
    "try:\n",
    "    #here we write the code\n",
    "    a=int(input('choose first number'))\n",
    "    b=int(input('choose second number'))\n",
    "    c=a*b\n",
    "    d=a/b\n",
    "except Exception as ex:\n",
    "    #here we catch the exception\n",
    "    print(ex)\n",
    "else:\n",
    "    #here we continue the execution if nothing was wrong\n",
    "    print(c)\n",
    "    print(d)\n",
    "finally:\n",
    "    print('execution completed')"
   ]
  },
  {
   "cell_type": "markdown",
   "id": "ad683729-eddc-43d3-bc96-93fe7336d5a3",
   "metadata": {},
   "source": [
    "## Custom exception"
   ]
  },
  {
   "cell_type": "code",
   "execution_count": 46,
   "id": "f8a4f6bb-3b71-48b2-9d7c-d2535b8225b8",
   "metadata": {},
   "outputs": [],
   "source": [
    "#let s say we want the user to complete a form with their birthday\n",
    "# we want to throw an exception if their age is bigger than 30 yo and smaller than 20 yo\n",
    "\n",
    "#here we create a class that is inheriting the Exception class\n",
    "class Error(Exception):\n",
    "    pass\n",
    "\n",
    "class dobException(Error):\n",
    "    pass"
   ]
  },
  {
   "cell_type": "code",
   "execution_count": 45,
   "id": "52610279-aa93-4d97-a7e9-42a56b3513b2",
   "metadata": {},
   "outputs": [
    {
     "name": "stdin",
     "output_type": "stream",
     "text": [
      "eneter birth year 2000\n"
     ]
    },
    {
     "name": "stdout",
     "output_type": "stream",
     "text": [
      "age is good\n"
     ]
    }
   ],
   "source": [
    "year=int(input('eneter birth year'))\n",
    "age=2024-year\n",
    "\n",
    "#now we write the condition\n",
    "try:\n",
    "    if age<=30 & age>20:\n",
    "        print('age is good')\n",
    "    else:\n",
    "        raise dobException\n",
    "except dobException:\n",
    "    print('the year of birth is not valid')    \n",
    "    "
   ]
  },
  {
   "cell_type": "markdown",
   "id": "fb75dbd7-54c0-4553-adcd-4fc07b227dc9",
   "metadata": {},
   "source": [
    "# Public, protected and Private variables"
   ]
  },
  {
   "cell_type": "markdown",
   "id": "8b21260f-79c1-4543-8d3d-7f7cce043c3a",
   "metadata": {},
   "source": [
    "PUBLIC - can be accessed from anywhere\n",
    "\n",
    "PROTECTED - should only be accessed/ modified from child class\n",
    "\n",
    "PRIVATE - should not be accessed/ modified from anywhere"
   ]
  },
  {
   "cell_type": "code",
   "execution_count": 77,
   "id": "3da70558-c64d-455c-8594-48b1d55ebb4a",
   "metadata": {},
   "outputs": [],
   "source": [
    "# All the class variables are PUBLIC\n",
    "class Car:\n",
    "    def __init__(self, window, door, enginetype):\n",
    "        #now we create our own attributes\n",
    "        self.windows=window\n",
    "        self.doors=door\n",
    "        self.enginetype=enginetype"
   ]
  },
  {
   "cell_type": "code",
   "execution_count": 59,
   "id": "8f119d65-f0aa-4db3-9bf5-138d1592008f",
   "metadata": {},
   "outputs": [
    {
     "data": {
      "text/plain": [
       "['__class__',\n",
       " '__delattr__',\n",
       " '__dict__',\n",
       " '__dir__',\n",
       " '__doc__',\n",
       " '__eq__',\n",
       " '__format__',\n",
       " '__ge__',\n",
       " '__getattribute__',\n",
       " '__getstate__',\n",
       " '__gt__',\n",
       " '__hash__',\n",
       " '__init__',\n",
       " '__init_subclass__',\n",
       " '__le__',\n",
       " '__lt__',\n",
       " '__module__',\n",
       " '__ne__',\n",
       " '__new__',\n",
       " '__reduce__',\n",
       " '__reduce_ex__',\n",
       " '__repr__',\n",
       " '__setattr__',\n",
       " '__sizeof__',\n",
       " '__str__',\n",
       " '__subclasshook__',\n",
       " '__weakref__',\n",
       " 'doors',\n",
       " 'enginetype',\n",
       " 'windows']"
      ]
     },
     "execution_count": 59,
     "metadata": {},
     "output_type": "execute_result"
    }
   ],
   "source": [
    "#create an object\n",
    "audi=Car(4,6,'tdi')\n",
    "dir(audi)"
   ]
  },
  {
   "cell_type": "code",
   "execution_count": 65,
   "id": "a280688b-537e-4204-aff3-62e85d57b070",
   "metadata": {},
   "outputs": [
    {
     "data": {
      "text/plain": [
       "10"
      ]
     },
     "execution_count": 65,
     "metadata": {},
     "output_type": "execute_result"
    }
   ],
   "source": [
    "# we can overwrite it\n",
    "audi.windows=10\n",
    "audi.windows"
   ]
  },
  {
   "cell_type": "code",
   "execution_count": 76,
   "id": "77e55737-7bb3-4bc0-97f8-77d26db9fec7",
   "metadata": {},
   "outputs": [],
   "source": [
    "#in order to make it protected we add '_' at the beginning of the atributes\n",
    "# All the class variables are PROTECTED\n",
    "class Car:\n",
    "    def __init__(self, window, door, enginetype):\n",
    "        #now we create our own attributes\n",
    "        self._windows=window\n",
    "        self._doors=door\n",
    "        self._enginetype=enginetype\n"
   ]
  },
  {
   "cell_type": "code",
   "execution_count": 63,
   "id": "105f85f6-6b70-4e68-9348-032f62f277f6",
   "metadata": {},
   "outputs": [
    {
     "data": {
      "text/plain": [
       "['__class__',\n",
       " '__delattr__',\n",
       " '__dict__',\n",
       " '__dir__',\n",
       " '__doc__',\n",
       " '__eq__',\n",
       " '__format__',\n",
       " '__ge__',\n",
       " '__getattribute__',\n",
       " '__getstate__',\n",
       " '__gt__',\n",
       " '__hash__',\n",
       " '__init__',\n",
       " '__init_subclass__',\n",
       " '__le__',\n",
       " '__lt__',\n",
       " '__module__',\n",
       " '__ne__',\n",
       " '__new__',\n",
       " '__reduce__',\n",
       " '__reduce_ex__',\n",
       " '__repr__',\n",
       " '__setattr__',\n",
       " '__sizeof__',\n",
       " '__str__',\n",
       " '__subclasshook__',\n",
       " '__weakref__',\n",
       " '_doors',\n",
       " '_enginetype',\n",
       " '_windows']"
      ]
     },
     "execution_count": 63,
     "metadata": {},
     "output_type": "execute_result"
    }
   ],
   "source": [
    "# create an object\n",
    "audi=Car(4,4,'diesel')\n",
    "#here we see the atributes have _ before them, thus they are protected\n",
    "dir(audi)"
   ]
  },
  {
   "cell_type": "code",
   "execution_count": 71,
   "id": "93960a5c-0007-4258-a977-6ab5eb21905b",
   "metadata": {},
   "outputs": [],
   "source": [
    "# in case of protected, overwite can only happen from the child class\n",
    "# let's create a child class\n",
    "class Truck(Car):\n",
    "    def __init__(self,windows, doors, enginetype, power):\n",
    "        super().__init__(windows,doors,enginetype)\n",
    "        self.power=power\n"
   ]
  },
  {
   "cell_type": "code",
   "execution_count": 72,
   "id": "b03ebd46-b43b-43c3-ad4b-d4f9e7a82708",
   "metadata": {},
   "outputs": [],
   "source": [
    "#create truck obj\n",
    "truck=Truck(4,4,'diesel',4000)"
   ]
  },
  {
   "cell_type": "code",
   "execution_count": 75,
   "id": "33fa6a20-2ed3-473e-9eb5-5aaf41a1533b",
   "metadata": {},
   "outputs": [
    {
     "data": {
      "text/plain": [
       "8"
      ]
     },
     "execution_count": 75,
     "metadata": {},
     "output_type": "execute_result"
    }
   ],
   "source": [
    "# thus with protected we can only change the values where the child class that is inheriting the parent class is present\n",
    "truck._doors=8\n",
    "truck._doors"
   ]
  },
  {
   "cell_type": "code",
   "execution_count": 78,
   "id": "68a7db46-8d88-4719-a581-6910b93c58af",
   "metadata": {},
   "outputs": [],
   "source": [
    "## If PRIVATE we can not access the values for anywhere\n",
    "# we write double _ (__) before each atribute\n",
    "class Car:\n",
    "    def __init__(self, window, door, enginetype):\n",
    "        #now we create our own attributes\n",
    "        self.__windows=window\n",
    "        self.__doors=door\n",
    "        self.__enginetype=enginetype\n"
   ]
  },
  {
   "cell_type": "code",
   "execution_count": 80,
   "id": "54a60686-abb7-4974-8573-c239c34e6d6d",
   "metadata": {},
   "outputs": [
    {
     "data": {
      "text/plain": [
       "['_Car__doors',\n",
       " '_Car__enginetype',\n",
       " '_Car__windows',\n",
       " '__class__',\n",
       " '__delattr__',\n",
       " '__dict__',\n",
       " '__dir__',\n",
       " '__doc__',\n",
       " '__eq__',\n",
       " '__format__',\n",
       " '__ge__',\n",
       " '__getattribute__',\n",
       " '__getstate__',\n",
       " '__gt__',\n",
       " '__hash__',\n",
       " '__init__',\n",
       " '__init_subclass__',\n",
       " '__le__',\n",
       " '__lt__',\n",
       " '__module__',\n",
       " '__ne__',\n",
       " '__new__',\n",
       " '__reduce__',\n",
       " '__reduce_ex__',\n",
       " '__repr__',\n",
       " '__setattr__',\n",
       " '__sizeof__',\n",
       " '__str__',\n",
       " '__subclasshook__',\n",
       " '__weakref__']"
      ]
     },
     "execution_count": 80,
     "metadata": {},
     "output_type": "execute_result"
    }
   ],
   "source": [
    "audi=Car(4,4,'gas')\n",
    "dir(audi)"
   ]
  },
  {
   "cell_type": "markdown",
   "id": "548e8db2-c682-404e-85ed-7d6e23f2f85f",
   "metadata": {},
   "source": [
    "When an atribute is protected we should not change it outside the class\n",
    "\n",
    "Even tho we can do that, cause nothing is restricting us, as we can see in the following example:\n"
   ]
  },
  {
   "cell_type": "code",
   "execution_count": 81,
   "id": "56e43132-0da8-4388-85ee-8f7a06116bec",
   "metadata": {},
   "outputs": [
    {
     "data": {
      "text/plain": [
       "34"
      ]
     },
     "execution_count": 81,
     "metadata": {},
     "output_type": "execute_result"
    }
   ],
   "source": [
    "audi._Car__doors=34\n",
    "audi._Car__doors"
   ]
  },
  {
   "cell_type": "markdown",
   "id": "ec8b90cc-6b31-4e4a-81c1-d8966f87b471",
   "metadata": {},
   "source": [
    "# Inheritance "
   ]
  },
  {
   "cell_type": "code",
   "execution_count": 85,
   "id": "e6f50e86-10e6-4902-be15-f2d53e71e7fc",
   "metadata": {},
   "outputs": [],
   "source": [
    "# All the class variables are PUBLIC\n",
    "# this is BLUEPRINT of the car\n",
    "class Car:\n",
    "    def __init__(self, window, door, enginetype):\n",
    "        #now we create our own attributes\n",
    "        self.windows=window\n",
    "        self.doors=door\n",
    "        self.enginetype=enginetype\n",
    "    def drive(self):\n",
    "        print('the man is driving the car')"
   ]
  },
  {
   "cell_type": "code",
   "execution_count": 84,
   "id": "b6c798f3-46d8-4681-9cf2-8488db5c443f",
   "metadata": {},
   "outputs": [],
   "source": [
    "#create an obj\n",
    "car=Car(2,3,\"electric\")"
   ]
  },
  {
   "cell_type": "code",
   "execution_count": 86,
   "id": "afe3b507-c646-4525-abd2-74371b95bdf9",
   "metadata": {},
   "outputs": [],
   "source": [
    "# let's create a child class\n",
    "class audi(Car):\n",
    "    def __init__(self,window, door, enginetype, enable_turbo):\n",
    "        #now the atributes must be inherited too\n",
    "        super().__init__(window, door, enginetype)\n",
    "        self.enable_turbo=enable_turbo\n",
    "    def self_driving(self):\n",
    "        print('Audi supports self-driving')"
   ]
  },
  {
   "cell_type": "code",
   "execution_count": 87,
   "id": "0d279757-c74c-4948-af55-faac5757812c",
   "metadata": {},
   "outputs": [],
   "source": [
    "# create an obj\n",
    "audiR7=audi(4,4,'tdi',True)"
   ]
  },
  {
   "cell_type": "code",
   "execution_count": null,
   "id": "2b28012c-f19c-4c8c-a75e-67968a8b562a",
   "metadata": {},
   "outputs": [],
   "source": []
  }
 ],
 "metadata": {
  "kernelspec": {
   "display_name": "Python 3 (ipykernel)",
   "language": "python",
   "name": "python3"
  },
  "language_info": {
   "codemirror_mode": {
    "name": "ipython",
    "version": 3
   },
   "file_extension": ".py",
   "mimetype": "text/x-python",
   "name": "python",
   "nbconvert_exporter": "python",
   "pygments_lexer": "ipython3",
   "version": "3.11.7"
  }
 },
 "nbformat": 4,
 "nbformat_minor": 5
}
